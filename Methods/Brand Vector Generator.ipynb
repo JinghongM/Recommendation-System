{
 "cells": [
  {
   "cell_type": "code",
   "execution_count": 4,
   "metadata": {},
   "outputs": [],
   "source": [
    "import pandas\n",
    "import math"
   ]
  },
  {
   "cell_type": "markdown",
   "metadata": {},
   "source": [
    "The following indexes are the columns to be normalize"
   ]
  },
  {
   "cell_type": "code",
   "execution_count": 5,
   "metadata": {},
   "outputs": [
    {
     "ename": "FileNotFoundError",
     "evalue": "File b'./Brand Glossary Inputs (FINAL)  - Sheet1.csv' does not exist",
     "output_type": "error",
     "traceback": [
      "\u001b[0;31m---------------------------------------------------------------------------\u001b[0m",
      "\u001b[0;31mFileNotFoundError\u001b[0m                         Traceback (most recent call last)",
      "\u001b[0;32m<ipython-input-5-9efce466c63a>\u001b[0m in \u001b[0;36m<module>\u001b[0;34m()\u001b[0m\n\u001b[0;32m----> 1\u001b[0;31m \u001b[0mdf\u001b[0m\u001b[0;34m=\u001b[0m\u001b[0mpandas\u001b[0m\u001b[0;34m.\u001b[0m\u001b[0mread_csv\u001b[0m\u001b[0;34m(\u001b[0m\u001b[0;34m\"./Brand Glossary Inputs (FINAL)  - Sheet1.csv\"\u001b[0m\u001b[0;34m)\u001b[0m\u001b[0;34m[\u001b[0m\u001b[0;34m[\u001b[0m\u001b[0;34m'Brand Name'\u001b[0m\u001b[0;34m,\u001b[0m\u001b[0;34m'Only:Accessory/Outerwear/Swimwear/Formalwear/Showroom'\u001b[0m\u001b[0;34m,\u001b[0m\u001b[0;34m'Boys'\u001b[0m\u001b[0;34m,\u001b[0m\u001b[0;34m'Girls'\u001b[0m\u001b[0;34m,\u001b[0m\u001b[0;34m'Organic Y/M/N'\u001b[0m\u001b[0;34m,\u001b[0m\u001b[0;34m'Made in the USA Y/N'\u001b[0m\u001b[0;34m,\u001b[0m\u001b[0;34m'Price Level (1-5)'\u001b[0m\u001b[0;34m,\u001b[0m\u001b[0;34m'Pop'\u001b[0m\u001b[0;34m,\u001b[0m \u001b[0;34m'Techno/Funk'\u001b[0m\u001b[0;34m,\u001b[0m \u001b[0;34m'Indie'\u001b[0m\u001b[0;34m,\u001b[0m \u001b[0;34m'Hip Hop'\u001b[0m\u001b[0;34m,\u001b[0m \u001b[0;34m'Jazz'\u001b[0m\u001b[0;34m,\u001b[0m\u001b[0;34m'Lullaby'\u001b[0m\u001b[0;34m,\u001b[0m \u001b[0;34m'Jock Jams'\u001b[0m\u001b[0;34m]\u001b[0m\u001b[0;34m]\u001b[0m\u001b[0;34m\u001b[0m\u001b[0m\n\u001b[0m\u001b[1;32m      2\u001b[0m \u001b[0mprint\u001b[0m\u001b[0;34m(\u001b[0m\u001b[0mdf\u001b[0m\u001b[0;34m.\u001b[0m\u001b[0mcolumns\u001b[0m\u001b[0;34m)\u001b[0m\u001b[0;34m\u001b[0m\u001b[0m\n\u001b[1;32m      3\u001b[0m \u001b[0mprint\u001b[0m\u001b[0;34m(\u001b[0m\u001b[0mdf\u001b[0m\u001b[0;34m.\u001b[0m\u001b[0mshape\u001b[0m\u001b[0;34m)\u001b[0m\u001b[0;34m\u001b[0m\u001b[0m\n",
      "\u001b[0;32m~/.local/lib/python3.5/site-packages/pandas/io/parsers.py\u001b[0m in \u001b[0;36mparser_f\u001b[0;34m(filepath_or_buffer, sep, delimiter, header, names, index_col, usecols, squeeze, prefix, mangle_dupe_cols, dtype, engine, converters, true_values, false_values, skipinitialspace, skiprows, nrows, na_values, keep_default_na, na_filter, verbose, skip_blank_lines, parse_dates, infer_datetime_format, keep_date_col, date_parser, dayfirst, iterator, chunksize, compression, thousands, decimal, lineterminator, quotechar, quoting, escapechar, comment, encoding, dialect, tupleize_cols, error_bad_lines, warn_bad_lines, skipfooter, skip_footer, doublequote, delim_whitespace, as_recarray, compact_ints, use_unsigned, low_memory, buffer_lines, memory_map, float_precision)\u001b[0m\n\u001b[1;32m    707\u001b[0m                     skip_blank_lines=skip_blank_lines)\n\u001b[1;32m    708\u001b[0m \u001b[0;34m\u001b[0m\u001b[0m\n\u001b[0;32m--> 709\u001b[0;31m         \u001b[0;32mreturn\u001b[0m \u001b[0m_read\u001b[0m\u001b[0;34m(\u001b[0m\u001b[0mfilepath_or_buffer\u001b[0m\u001b[0;34m,\u001b[0m \u001b[0mkwds\u001b[0m\u001b[0;34m)\u001b[0m\u001b[0;34m\u001b[0m\u001b[0m\n\u001b[0m\u001b[1;32m    710\u001b[0m \u001b[0;34m\u001b[0m\u001b[0m\n\u001b[1;32m    711\u001b[0m     \u001b[0mparser_f\u001b[0m\u001b[0;34m.\u001b[0m\u001b[0m__name__\u001b[0m \u001b[0;34m=\u001b[0m \u001b[0mname\u001b[0m\u001b[0;34m\u001b[0m\u001b[0m\n",
      "\u001b[0;32m~/.local/lib/python3.5/site-packages/pandas/io/parsers.py\u001b[0m in \u001b[0;36m_read\u001b[0;34m(filepath_or_buffer, kwds)\u001b[0m\n\u001b[1;32m    447\u001b[0m \u001b[0;34m\u001b[0m\u001b[0m\n\u001b[1;32m    448\u001b[0m     \u001b[0;31m# Create the parser.\u001b[0m\u001b[0;34m\u001b[0m\u001b[0;34m\u001b[0m\u001b[0m\n\u001b[0;32m--> 449\u001b[0;31m     \u001b[0mparser\u001b[0m \u001b[0;34m=\u001b[0m \u001b[0mTextFileReader\u001b[0m\u001b[0;34m(\u001b[0m\u001b[0mfilepath_or_buffer\u001b[0m\u001b[0;34m,\u001b[0m \u001b[0;34m**\u001b[0m\u001b[0mkwds\u001b[0m\u001b[0;34m)\u001b[0m\u001b[0;34m\u001b[0m\u001b[0m\n\u001b[0m\u001b[1;32m    450\u001b[0m \u001b[0;34m\u001b[0m\u001b[0m\n\u001b[1;32m    451\u001b[0m     \u001b[0;32mif\u001b[0m \u001b[0mchunksize\u001b[0m \u001b[0;32mor\u001b[0m \u001b[0miterator\u001b[0m\u001b[0;34m:\u001b[0m\u001b[0;34m\u001b[0m\u001b[0m\n",
      "\u001b[0;32m~/.local/lib/python3.5/site-packages/pandas/io/parsers.py\u001b[0m in \u001b[0;36m__init__\u001b[0;34m(self, f, engine, **kwds)\u001b[0m\n\u001b[1;32m    816\u001b[0m             \u001b[0mself\u001b[0m\u001b[0;34m.\u001b[0m\u001b[0moptions\u001b[0m\u001b[0;34m[\u001b[0m\u001b[0;34m'has_index_names'\u001b[0m\u001b[0;34m]\u001b[0m \u001b[0;34m=\u001b[0m \u001b[0mkwds\u001b[0m\u001b[0;34m[\u001b[0m\u001b[0;34m'has_index_names'\u001b[0m\u001b[0;34m]\u001b[0m\u001b[0;34m\u001b[0m\u001b[0m\n\u001b[1;32m    817\u001b[0m \u001b[0;34m\u001b[0m\u001b[0m\n\u001b[0;32m--> 818\u001b[0;31m         \u001b[0mself\u001b[0m\u001b[0;34m.\u001b[0m\u001b[0m_make_engine\u001b[0m\u001b[0;34m(\u001b[0m\u001b[0mself\u001b[0m\u001b[0;34m.\u001b[0m\u001b[0mengine\u001b[0m\u001b[0;34m)\u001b[0m\u001b[0;34m\u001b[0m\u001b[0m\n\u001b[0m\u001b[1;32m    819\u001b[0m \u001b[0;34m\u001b[0m\u001b[0m\n\u001b[1;32m    820\u001b[0m     \u001b[0;32mdef\u001b[0m \u001b[0mclose\u001b[0m\u001b[0;34m(\u001b[0m\u001b[0mself\u001b[0m\u001b[0;34m)\u001b[0m\u001b[0;34m:\u001b[0m\u001b[0;34m\u001b[0m\u001b[0m\n",
      "\u001b[0;32m~/.local/lib/python3.5/site-packages/pandas/io/parsers.py\u001b[0m in \u001b[0;36m_make_engine\u001b[0;34m(self, engine)\u001b[0m\n\u001b[1;32m   1047\u001b[0m     \u001b[0;32mdef\u001b[0m \u001b[0m_make_engine\u001b[0m\u001b[0;34m(\u001b[0m\u001b[0mself\u001b[0m\u001b[0;34m,\u001b[0m \u001b[0mengine\u001b[0m\u001b[0;34m=\u001b[0m\u001b[0;34m'c'\u001b[0m\u001b[0;34m)\u001b[0m\u001b[0;34m:\u001b[0m\u001b[0;34m\u001b[0m\u001b[0m\n\u001b[1;32m   1048\u001b[0m         \u001b[0;32mif\u001b[0m \u001b[0mengine\u001b[0m \u001b[0;34m==\u001b[0m \u001b[0;34m'c'\u001b[0m\u001b[0;34m:\u001b[0m\u001b[0;34m\u001b[0m\u001b[0m\n\u001b[0;32m-> 1049\u001b[0;31m             \u001b[0mself\u001b[0m\u001b[0;34m.\u001b[0m\u001b[0m_engine\u001b[0m \u001b[0;34m=\u001b[0m \u001b[0mCParserWrapper\u001b[0m\u001b[0;34m(\u001b[0m\u001b[0mself\u001b[0m\u001b[0;34m.\u001b[0m\u001b[0mf\u001b[0m\u001b[0;34m,\u001b[0m \u001b[0;34m**\u001b[0m\u001b[0mself\u001b[0m\u001b[0;34m.\u001b[0m\u001b[0moptions\u001b[0m\u001b[0;34m)\u001b[0m\u001b[0;34m\u001b[0m\u001b[0m\n\u001b[0m\u001b[1;32m   1050\u001b[0m         \u001b[0;32melse\u001b[0m\u001b[0;34m:\u001b[0m\u001b[0;34m\u001b[0m\u001b[0m\n\u001b[1;32m   1051\u001b[0m             \u001b[0;32mif\u001b[0m \u001b[0mengine\u001b[0m \u001b[0;34m==\u001b[0m \u001b[0;34m'python'\u001b[0m\u001b[0;34m:\u001b[0m\u001b[0;34m\u001b[0m\u001b[0m\n",
      "\u001b[0;32m~/.local/lib/python3.5/site-packages/pandas/io/parsers.py\u001b[0m in \u001b[0;36m__init__\u001b[0;34m(self, src, **kwds)\u001b[0m\n\u001b[1;32m   1693\u001b[0m         \u001b[0mkwds\u001b[0m\u001b[0;34m[\u001b[0m\u001b[0;34m'allow_leading_cols'\u001b[0m\u001b[0;34m]\u001b[0m \u001b[0;34m=\u001b[0m \u001b[0mself\u001b[0m\u001b[0;34m.\u001b[0m\u001b[0mindex_col\u001b[0m \u001b[0;32mis\u001b[0m \u001b[0;32mnot\u001b[0m \u001b[0;32mFalse\u001b[0m\u001b[0;34m\u001b[0m\u001b[0m\n\u001b[1;32m   1694\u001b[0m \u001b[0;34m\u001b[0m\u001b[0m\n\u001b[0;32m-> 1695\u001b[0;31m         \u001b[0mself\u001b[0m\u001b[0;34m.\u001b[0m\u001b[0m_reader\u001b[0m \u001b[0;34m=\u001b[0m \u001b[0mparsers\u001b[0m\u001b[0;34m.\u001b[0m\u001b[0mTextReader\u001b[0m\u001b[0;34m(\u001b[0m\u001b[0msrc\u001b[0m\u001b[0;34m,\u001b[0m \u001b[0;34m**\u001b[0m\u001b[0mkwds\u001b[0m\u001b[0;34m)\u001b[0m\u001b[0;34m\u001b[0m\u001b[0m\n\u001b[0m\u001b[1;32m   1696\u001b[0m \u001b[0;34m\u001b[0m\u001b[0m\n\u001b[1;32m   1697\u001b[0m         \u001b[0;31m# XXX\u001b[0m\u001b[0;34m\u001b[0m\u001b[0;34m\u001b[0m\u001b[0m\n",
      "\u001b[0;32mpandas/_libs/parsers.pyx\u001b[0m in \u001b[0;36mpandas._libs.parsers.TextReader.__cinit__\u001b[0;34m()\u001b[0m\n",
      "\u001b[0;32mpandas/_libs/parsers.pyx\u001b[0m in \u001b[0;36mpandas._libs.parsers.TextReader._setup_parser_source\u001b[0;34m()\u001b[0m\n",
      "\u001b[0;31mFileNotFoundError\u001b[0m: File b'./Brand Glossary Inputs (FINAL)  - Sheet1.csv' does not exist"
     ]
    }
   ],
   "source": [
    "df=pandas.read_csv(\"./Brand Glossary Inputs (FINAL)  - Sheet1.csv\")[['Brand Name','Only:Accessory/Outerwear/Swimwear/Formalwear/Showroom','Boys','Girls','Organic Y/M/N','Made in the USA Y/N','Price Level (1-5)','Pop', 'Techno/Funk', 'Indie', 'Hip Hop', 'Jazz','Lullaby', 'Jock Jams']]\n",
    "print(df.columns)\n",
    "print(df.shape)"
   ]
  },
  {
   "cell_type": "code",
   "execution_count": 6,
   "metadata": {},
   "outputs": [
    {
     "ename": "NameError",
     "evalue": "name 'df' is not defined",
     "output_type": "error",
     "traceback": [
      "\u001b[0;31m---------------------------------------------------------------------------\u001b[0m",
      "\u001b[0;31mNameError\u001b[0m                                 Traceback (most recent call last)",
      "\u001b[0;32m<ipython-input-6-4cbf6b1b57a9>\u001b[0m in \u001b[0;36m<module>\u001b[0;34m()\u001b[0m\n\u001b[0;32m----> 1\u001b[0;31m \u001b[0;32mfor\u001b[0m \u001b[0mi\u001b[0m \u001b[0;32min\u001b[0m \u001b[0mrange\u001b[0m\u001b[0;34m(\u001b[0m\u001b[0;36m0\u001b[0m\u001b[0;34m,\u001b[0m\u001b[0mdf\u001b[0m\u001b[0;34m.\u001b[0m\u001b[0mshape\u001b[0m\u001b[0;34m[\u001b[0m\u001b[0;36m0\u001b[0m\u001b[0;34m]\u001b[0m\u001b[0;34m)\u001b[0m\u001b[0;34m:\u001b[0m\u001b[0;34m\u001b[0m\u001b[0m\n\u001b[0m\u001b[1;32m      2\u001b[0m     \u001b[0mprint\u001b[0m\u001b[0;34m(\u001b[0m\u001b[0mi\u001b[0m\u001b[0;34m)\u001b[0m\u001b[0;34m\u001b[0m\u001b[0m\n\u001b[1;32m      3\u001b[0m     \u001b[0maccessory\u001b[0m \u001b[0;34m=\u001b[0m \u001b[0mdf\u001b[0m\u001b[0;34m.\u001b[0m\u001b[0miloc\u001b[0m\u001b[0;34m[\u001b[0m\u001b[0mi\u001b[0m\u001b[0;34m]\u001b[0m\u001b[0;34m[\u001b[0m\u001b[0;34m'Only:Accessory/Outerwear/Swimwear/Formalwear/Showroom'\u001b[0m\u001b[0;34m]\u001b[0m\u001b[0;34m\u001b[0m\u001b[0m\n\u001b[1;32m      4\u001b[0m     \u001b[0;32mif\u001b[0m \u001b[0maccessory\u001b[0m \u001b[0;34m==\u001b[0m \u001b[0;34m'Yes'\u001b[0m\u001b[0;34m:\u001b[0m\u001b[0;34m\u001b[0m\u001b[0m\n\u001b[1;32m      5\u001b[0m         \u001b[0mdf\u001b[0m\u001b[0;34m.\u001b[0m\u001b[0miloc\u001b[0m\u001b[0;34m[\u001b[0m\u001b[0mi\u001b[0m\u001b[0;34m]\u001b[0m\u001b[0;34m[\u001b[0m\u001b[0;34m'Only:Accessory/Outerwear/Swimwear/Formalwear/Showroom'\u001b[0m\u001b[0;34m]\u001b[0m\u001b[0;34m=\u001b[0m\u001b[0;36m1\u001b[0m\u001b[0;34m\u001b[0m\u001b[0m\n",
      "\u001b[0;31mNameError\u001b[0m: name 'df' is not defined"
     ]
    }
   ],
   "source": [
    "for i in range(0,df.shape[0]):\n",
    "    print(i)\n",
    "    accessory = df.iloc[i]['Only:Accessory/Outerwear/Swimwear/Formalwear/Showroom']\n",
    "    if accessory == 'Yes':\n",
    "        df.iloc[i]['Only:Accessory/Outerwear/Swimwear/Formalwear/Showroom']=1\n",
    "    elif accessory == 'No':\n",
    "        df.iloc[i]['Only:Accessory/Outerwear/Swimwear/Formalwear/Showroom']=-1\n",
    "    else:\n",
    "        df.iloc[i]['Only:Accessory/Outerwear/Swimwear/Formalwear/Showroom']=0\n",
    "    boys = df.iloc[i]['Boys']\n",
    "    if boys=='Yes':\n",
    "        df.iloc[i]['Boys']=1\n",
    "    elif boys=='No':\n",
    "        df.iloc[i]['Boys']=-1\n",
    "    else:\n",
    "        df.iloc[i]['Boys']=0\n",
    "    girls = df.iloc[i]['Girls']\n",
    "    if girls=='Yes':\n",
    "        df.iloc[i]['Girls']=1\n",
    "    elif girls=='No':\n",
    "        df.iloc[i]['Girls']=-1\n",
    "    else:\n",
    "        df.iloc[i]['Girls']=0\n",
    "    organic = df.iloc[i]['Organic Y/M/N'] \n",
    "    if organic=='Yes':\n",
    "        df.iloc[i]['Organic Y/M/N']=1\n",
    "    elif organic=='No':\n",
    "        df.iloc[i]['Organic Y/M/N']=-1\n",
    "    else:\n",
    "        df.iloc[i]['Organic Y/M/N']=0\n",
    "    USA = df.iloc[i]['Made in the USA Y/N']\n",
    "    if USA=='Yes':\n",
    "        df.iloc[i]['Made in the USA Y/N']=1\n",
    "    elif USA=='No':\n",
    "        df.iloc[i]['Made in the USA Y/N']=-1\n",
    "    else:\n",
    "        df.iloc[i]['Made in the USA Y/N']=0\n",
    "    price =str(df.iloc[i]['Price Level (1-5)'])\n",
    "    if  price== 'nan':\n",
    "        df.iloc[i]['Price Level (1-5)'] = 0\n",
    "    elif price=='$ and $$$':\n",
    "        df.iloc[i]['Price Level (1-5)'] = (2-3)/2\n",
    "    elif len(price) == price.count('$'):\n",
    "        df.iloc[i]['Price Level (1-5)'] = (len(price) - 3) / 2\n",
    "    pop = df.iloc[i]['Pop']\n",
    "    if pop == 'Yes':\n",
    "        df.iloc[i]['Pop'] = 1\n",
    "    elif pop == 'No':\n",
    "        df.iloc[i]['Pop'] = -1\n",
    "    else:\n",
    "        df.iloc[i]['Pop'] = 0\n",
    "    techno = df.iloc[i]['Techno/Funk']\n",
    "    if techno == 'Yes':\n",
    "        df.iloc[i]['Techno/Funk'] = 1\n",
    "    elif techno == 'No':\n",
    "        df.iloc[i]['Techno/Funk'] = -1\n",
    "    else:\n",
    "        df.iloc[i]['Techno/Funk'] = 0\n",
    "    indie = df.iloc[i]['Indie']\n",
    "    if indie == 'Yes':\n",
    "        df.iloc[i]['Indie'] = 1\n",
    "    elif indie == 'No':\n",
    "        df.iloc[i]['Indie'] = -1\n",
    "    else:\n",
    "        df.iloc[i]['Indie'] = 0\n",
    "    hiphop = df.iloc[i]['Hip Hop']\n",
    "    if hiphop == 'Yes':\n",
    "        df.iloc[i]['Hip Hop'] = 1\n",
    "    elif hiphop== 'No':\n",
    "        df.iloc[i]['Hip Hop'] = -1\n",
    "    else:\n",
    "        df.iloc[i]['Hip Hop'] = 0\n",
    "    jazz = df.iloc[i]['Jazz']\n",
    "    if jazz == 'Yes':\n",
    "        df.iloc[i]['Jazz'] = 1\n",
    "    elif jazz == 'No':\n",
    "        df.iloc[i]['Jazz'] = -1\n",
    "    else:\n",
    "        df.iloc[i]['Jazz'] = 0\n",
    "    lullaby = df.iloc[i]['Lullaby']\n",
    "    if lullaby== 'Yes':\n",
    "        df.iloc[i]['Lullaby'] = 1\n",
    "    elif lullaby== 'No':\n",
    "        df.iloc[i]['Lullaby'] = -1\n",
    "    else:\n",
    "        df.iloc[i]['Lullaby'] = 0\n",
    "    jock = df.iloc[i]['Jock Jams']\n",
    "    if jock== 'Yes':\n",
    "        df.iloc[i]['Jock Jams'] = 1\n",
    "    elif jock== 'No':\n",
    "        df.iloc[i]['Jock Jams'] = -1\n",
    "    else:\n",
    "        df.iloc[i]['Jock Jams'] = 0"
   ]
  },
  {
   "cell_type": "code",
   "execution_count": null,
   "metadata": {},
   "outputs": [],
   "source": []
  }
 ],
 "metadata": {
  "kernelspec": {
   "display_name": "Python 3",
   "language": "python",
   "name": "python3"
  },
  "language_info": {
   "codemirror_mode": {
    "name": "ipython",
    "version": 3
   },
   "file_extension": ".py",
   "mimetype": "text/x-python",
   "name": "python",
   "nbconvert_exporter": "python",
   "pygments_lexer": "ipython3",
   "version": "3.5.2"
  }
 },
 "nbformat": 4,
 "nbformat_minor": 2
}
