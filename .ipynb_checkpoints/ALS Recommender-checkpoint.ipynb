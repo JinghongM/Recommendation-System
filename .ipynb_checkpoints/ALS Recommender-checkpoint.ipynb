{
 "cells": [
  {
   "cell_type": "code",
   "execution_count": 1,
   "metadata": {},
   "outputs": [],
   "source": [
    "import pandas as pd\n",
    "import numpy as np\n",
    "import pyspark\n",
    "import matplotlib.pyplot as plt\n",
    "from pyspark.mllib.recommendation import ALS,MatrixFactorizationModel,Rating"
   ]
  },
  {
   "cell_type": "markdown",
   "metadata": {},
   "source": [
    "data: user ID, item ID, Fitting Rating, Style Rating, Comments.\n",
    "\n",
    "strip out the header and those dirty data."
   ]
  },
  {
   "cell_type": "code",
   "execution_count": 2,
   "metadata": {},
   "outputs": [],
   "source": [
    "data = sc.textFile(\"file:///home/jinghong/Recommendation_System/rateFakeData1.txt\")"
   ]
  },
  {
   "cell_type": "code",
   "execution_count": 3,
   "metadata": {},
   "outputs": [],
   "source": [
    "header = data.first()\n",
    "data_Filter = data.filter(lambda line: line != header)\n"
   ]
  },
  {
   "cell_type": "code",
   "execution_count": 4,
   "metadata": {
    "scrolled": true
   },
   "outputs": [
    {
     "name": "stdout",
     "output_type": "stream",
     "text": [
      "1 58 2 5 \n",
      "2 75 5 1 \n",
      "2 61 3 3 \n",
      "2 17 5 3 \n",
      "3 8 5 2 \n",
      "3 22 2 1 \n",
      "3 23 5 5 \n",
      "3 64 3 5 \n",
      "4 76 3 5 \n",
      "4 33 1 1 \n"
     ]
    }
   ],
   "source": [
    "for i in data_Filter.take(10):print(i)"
   ]
  },
  {
   "cell_type": "code",
   "execution_count": 5,
   "metadata": {},
   "outputs": [
    {
     "name": "stdout",
     "output_type": "stream",
     "text": [
      "Rating(user=1, product=58, rating=5.0)\n",
      "Rating(user=2, product=75, rating=1.0)\n",
      "Rating(user=2, product=61, rating=3.0)\n",
      "Rating(user=2, product=17, rating=3.0)\n",
      "Rating(user=3, product=8, rating=2.0)\n",
      "Rating(user=3, product=22, rating=1.0)\n",
      "Rating(user=3, product=23, rating=5.0)\n",
      "Rating(user=3, product=64, rating=5.0)\n",
      "Rating(user=4, product=76, rating=5.0)\n",
      "Rating(user=4, product=33, rating=1.0)\n"
     ]
    }
   ],
   "source": [
    "ratings = data_Filter.map(lambda l: Rating(int(l.split(' ')[0]),int(l.split(' ')[1]),float(l.split(' ')[3])))\n",
    "for i in ratings.take(10):print(i)"
   ]
  },
  {
   "cell_type": "code",
   "execution_count": 6,
   "metadata": {},
   "outputs": [
    {
     "data": {
      "image/png": "[encoded data removed]",
      "text/plain": [
       "<Figure size 432x288 with 1 Axes>"
      ]
     },
     "metadata": {},
     "output_type": "display_data"
    }
   ],
   "source": [
    "fig,ax = plt.subplots()\n",
    "n_groups = 5\n",
    "index = np.arange(0,5)\n",
    "bar_width = 1\n",
    "opacity = 0.4\n",
    "ratingCounts = ratings.map(lambda l: (int(l[2]),1)).reduceByKey(lambda x,y: x+y).map(lambda l: l[1]).collect()\n",
    "rectsl = plt.bar(index,ratingCounts,bar_width,alpha=opacity,color='b',label='ratings')\n",
    "plt.xlabel('ratings')\n",
    "plt.ylabel('counts')\n",
    "plt.title('Distribution of Ratings')\n",
    "plt.xticks(index,('1,0','2.0','3.0','4.0','5.0'))\n",
    "plt.legend()\n",
    "plt.tight_layout()"
   ]
  },
  {
   "cell_type": "markdown",
   "metadata": {},
   "source": [
    "Use pyspark buildin ALS model to train data\n",
    "\n",
    "ALS model:https://spark.apache.org/docs/latest/mllib-collaborative-filtering.html"
   ]
  },
  {
   "cell_type": "code",
   "execution_count": 7,
   "metadata": {},
   "outputs": [
    {
     "name": "stdout",
     "output_type": "stream",
     "text": [
      "23917\n",
      "5977\n"
     ]
    }
   ],
   "source": [
    "(training,test) = ratings.randomSplit([0.8,0.2])\n",
    "print(training.count())\n",
    "print(test.count())"
   ]
  },
  {
   "cell_type": "code",
   "execution_count": 8,
   "metadata": {},
   "outputs": [
    {
     "name": "stdout",
     "output_type": "stream",
     "text": [
      "Rating(user=5, product=83, rating=5.0)\n",
      "Rating(user=6, product=24, rating=3.0)\n",
      "Rating(user=8, product=8, rating=4.0)\n",
      "Rating(user=8, product=74, rating=5.0)\n",
      "Rating(user=11, product=71, rating=4.0)\n",
      "Rating(user=13, product=2, rating=1.0)\n",
      "Rating(user=15, product=58, rating=2.0)\n",
      "Rating(user=15, product=17, rating=3.0)\n",
      "Rating(user=16, product=57, rating=1.0)\n",
      "Rating(user=18, product=35, rating=4.0)\n"
     ]
    }
   ],
   "source": [
    "rank = 10\n",
    "numIterations = 10\n",
    "model = ALS.train(training,rank,numIterations)\n",
    "for i in test.take(10):print(i)"
   ]
  },
  {
   "cell_type": "code",
   "execution_count": 9,
   "metadata": {},
   "outputs": [],
   "source": [
    "testdata = test.map(lambda p: (p[0],p[1]))\n",
    "pred_ind = model.predict(2,61)\n",
    "predictions = model.predictAll(testdata).map(lambda r: ((r[0],r[1]),r[2]))"
   ]
  },
  {
   "cell_type": "markdown",
   "metadata": {},
   "source": [
    "Predict user id = 94"
   ]
  },
  {
   "cell_type": "code",
   "execution_count": 23,
   "metadata": {},
   "outputs": [
    {
     "name": "stdout",
     "output_type": "stream",
     "text": [
      "96\n",
      "73\n",
      "55\n",
      "57\n",
      "88\n",
      "58\n",
      "91\n",
      "39\n",
      "64\n",
      "33\n"
     ]
    }
   ],
   "source": [
    "recommendItemsToUser = model.recommendProductsForUsers(10)\n",
    "user94 = recommendItemsToUser.filter(lambda l: l[0] == 94)\n",
    "for i in user94.take(10)[0][1]:\n",
    "    print(i[1])\n",
    "#print(user94.take(10)[0][1][0][1]) "
   ]
  },
  {
   "cell_type": "code",
   "execution_count": 46,
   "metadata": {},
   "outputs": [
    {
     "name": "stdout",
     "output_type": "stream",
     "text": [
      "factor: 2\n",
      "factor: 3\n",
      "factor: 4\n",
      "[70, 30, 61, 20, 4, 3, 65, 43, 22, 12, 1, 3]\n"
     ]
    }
   ],
   "source": [
    "import pandas as pd\n",
    "import numpy as np\n",
    "import pyspark\n",
    "import matplotlib.pyplot as plt\n",
    "from pyspark.mllib.recommendation import ALS,MatrixFactorizationModel,Rating\n",
    "def AlsRecommmender(filePath,userId,filterResult,topN):\n",
    "    if topN>len(filterResult):\n",
    "        print(\"filter result too small!!\")\n",
    "        return filterResult\n",
    "    data = sc.textFile(\"file:///\"+filePath)\n",
    "    header=data.first()\n",
    "    dataFilter = data.filter(lambda line: line != header)\n",
    "    ratings=dataFilter.map(lambda l: Rating(int(l.split(\" \")[0]),int(l.split(\" \")[1]),float(l.split(\" \")[3])))\n",
    "    rank=10\n",
    "    numIterations=10\n",
    "    model=ALS.train(ratings,rank,numIterations)\n",
    "    factor=2\n",
    "    recommendItemsToUser=model.recommendProductsForUsers(topN*factor)\n",
    "    user=recommendItemsToUser.filter(lambda l:l[0]==userId)\n",
    "    Alsresult=[]\n",
    "    for i in user.take(user.count())[0][1]:\n",
    "        Alsresult.append(i[1])\n",
    "    result=intersection(filterResult,Alsresult)\n",
    "    while len(result) < topN:\n",
    "        print(\"factor: \" +str(factor))\n",
    "        factor+=1\n",
    "        recommendItemsToUser=model.recommendProductsForUsers(topN*factor)\n",
    "        user=recommendItemsToUser.filter(lambda l:l[0]==userId)\n",
    "        Alsresult=[]\n",
    "        for i in user.take(user.count())[0][1]:\n",
    "            Alsresult.append(i[1])\n",
    "        result=intersection(filterResult,Alsresult)\n",
    "    return result\n",
    "def intersection(lst1,lst2):\n",
    "    return [value for value in lst1 if value in lst2]\n",
    "filterResult=[70,30,61,26,44,20,4,3,55,13,45,65,43,22,12,1,2,3]\n",
    "print(AlsRecommmender(\"home/jinghong/Recommendation_System/rateFakeData1.txt\",94,filterResult,10))"
   ]
  },
  {
   "cell_type": "code",
   "execution_count": 16,
   "metadata": {},
   "outputs": [
    {
     "name": "stdout",
     "output_type": "stream",
     "text": [
      "MSE =  1.5747826478196048\n"
     ]
    }
   ],
   "source": [
    "ratesAndPreds = ratings.map(lambda r: ((r[0],r[1]),r[2])).join(predictions)\n",
    "MSE = ratesAndPreds.map(lambda r: (r[1][0] - r[1][1]) ** 2).mean()\n",
    "print(\"MSE = \", MSE)"
   ]
  },
  {
   "cell_type": "markdown",
   "metadata": {},
   "source": [
    "Get relation between MSE and rank"
   ]
  },
  {
   "cell_type": "code",
   "execution_count": 17,
   "metadata": {},
   "outputs": [
    {
     "name": "stdout",
     "output_type": "stream",
     "text": [
      "rank =  10 MSE =  2.2519952624631756\n",
      "rank =  11 MSE =  2.12203772616748\n",
      "rank =  12 MSE =  1.9662616958528538\n",
      "rank =  13 MSE =  2.069207112000409\n",
      "rank =  14 MSE =  1.8528449723743305\n",
      "rank =  15 MSE =  1.7030328119314275\n",
      "rank =  16 MSE =  1.831795207332191\n",
      "rank =  17 MSE =  1.8047704015463077\n",
      "rank =  18 MSE =  1.8307977425907072\n",
      "rank =  19 MSE =  1.59036349564213\n"
     ]
    }
   ],
   "source": [
    "ranks = list(range(10,20))\n",
    "MSES=[]\n",
    "for rank in ranks:\n",
    "    model = None\n",
    "    model=ALS.train(training,rank,numIterations)\n",
    "    predictions = model.predictAll(testdata).map(lambda r: ((r[0],r[1]),r[2]))\n",
    "    ratesAndPreds = ratings.map(lambda r: ((r[0],r[1]),r[2])).join(predictions)\n",
    "    MSE = ratesAndPreds.map(lambda r: (r[1][0] - r[1][1]) ** 2).mean()\n",
    "    MSES.append(MSE)\n",
    "    print(\"rank = \", rank,\"MSE = \", MSE)"
   ]
  },
  {
   "cell_type": "markdown",
   "metadata": {},
   "source": [
    "item_data : item ID, all features,\n",
    "map to (item_id,(all features))\n",
    "and join with result"
   ]
  }
 ],
 "metadata": {
  "kernelspec": {
   "display_name": "Python 3",
   "language": "python",
   "name": "python3"
  },
  "language_info": {
   "codemirror_mode": {
    "name": "ipython",
    "version": 3
   },
   "file_extension": ".py",
   "mimetype": "text/x-python",
   "name": "python",
   "nbconvert_exporter": "python",
   "pygments_lexer": "ipython3",
   "version": "3.5.2"
  }
 },
 "nbformat": 4,
 "nbformat_minor": 2
}
