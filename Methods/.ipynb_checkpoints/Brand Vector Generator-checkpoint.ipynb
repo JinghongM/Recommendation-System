{
 "cells": [
  {
   "cell_type": "code",
   "execution_count": 3,
   "metadata": {},
   "outputs": [],
   "source": [
    "import pandas\n",
    "import math"
   ]
  },
  {
   "cell_type": "markdown",
   "metadata": {},
   "source": [
    "The following indexes are the columns to be normalize"
   ]
  },
  {
   "cell_type": "code",
   "execution_count": 4,
   "metadata": {},
   "outputs": [
    {
     "name": "stdout",
     "output_type": "stream",
     "text": [
      "Index(['Brand Name', 'Only:Accessory/Outerwear/Swimwear/Formalwear/Showroom',\n",
      "       'Boys', 'Girls', 'Organic Y/M/N', 'Made in the USA Y/N',\n",
      "       'Price Level (1-5)', 'Pop', 'Techno/Funk', 'Indie', 'Hip Hop', 'Jazz',\n",
      "       'Lullaby', 'Jock Jams'],\n",
      "      dtype='object')\n",
      "(1903, 14)\n"
     ]
    }
   ],
   "source": [
    "df=pandas.read_csv(\"./Brand Glossary Inputs (FINAL)  - Sheet1.csv\")[['Brand Name','Only:Accessory/Outerwear/Swimwear/Formalwear/Showroom','Boys','Girls','Organic Y/M/N','Made in the USA Y/N','Price Level (1-5)','Pop', 'Techno/Funk', 'Indie', 'Hip Hop', 'Jazz','Lullaby', 'Jock Jams']]\n",
    "print(df.columns)\n",
    "print(df.shape)"
   ]
  },
  {
   "cell_type": "code",
   "execution_count": null,
   "metadata": {},
   "outputs": [],
   "source": [
    "for i in range(0,df.shape[0]):\n",
    "    print(i)\n",
    "    accessory = df.iloc[i]['Only:Accessory/Outerwear/Swimwear/Formalwear/Showroom']\n",
    "    if accessory == 'Yes':\n",
    "        df.iloc[i]['Only:Accessory/Outerwear/Swimwear/Formalwear/Showroom']=1\n",
    "    elif accessory == 'No':\n",
    "        df.iloc[i]['Only:Accessory/Outerwear/Swimwear/Formalwear/Showroom']=-1\n",
    "    else:\n",
    "        df.iloc[i]['Only:Accessory/Outerwear/Swimwear/Formalwear/Showroom']=0\n",
    "    boys = df.iloc[i]['Boys']\n",
    "    if boys=='Yes':\n",
    "        df.iloc[i]['Boys']=1\n",
    "    elif boys=='No':\n",
    "        df.iloc[i]['Boys']=-1\n",
    "    else:\n",
    "        df.iloc[i]['Boys']=0\n",
    "    girls = df.iloc[i]['Girls']\n",
    "    if girls=='Yes':\n",
    "        df.iloc[i]['Girls']=1\n",
    "    elif girls=='No':\n",
    "        df.iloc[i]['Girls']=-1\n",
    "    else:\n",
    "        df.iloc[i]['Girls']=0\n",
    "    organic = df.iloc[i]['Organic Y/M/N'] \n",
    "    if organic=='Yes':\n",
    "        df.iloc[i]['Organic Y/M/N']=1\n",
    "    elif organic=='No':\n",
    "        df.iloc[i]['Organic Y/M/N']=-1\n",
    "    else:\n",
    "        df.iloc[i]['Organic Y/M/N']=0\n",
    "    USA = df.iloc[i]['Made in the USA Y/N']\n",
    "    if USA=='Yes':\n",
    "        df.iloc[i]['Made in the USA Y/N']=1\n",
    "    elif USA=='No':\n",
    "        df.iloc[i]['Made in the USA Y/N']=-1\n",
    "    else:\n",
    "        df.iloc[i]['Made in the USA Y/N']=0\n",
    "    price =str(df.iloc[i]['Price Level (1-5)'])\n",
    "    if  price== 'nan':\n",
    "        df.iloc[i]['Price Level (1-5)'] = 0\n",
    "    elif len(price) == price.count('$'):\n",
    "        df.iloc[i]['Price Level (1-5)'] = (len(price) - 3) / 2\n",
    "    pop = df.iloc[i]['Pop']\n",
    "    if pop == 'Yes':\n",
    "        df.iloc[i]['Pop'] = 1\n",
    "    elif pop == 'No':\n",
    "        df.iloc[i]['Pop'] = -1\n",
    "    else:\n",
    "        df.iloc[i]['Pop'] = 0\n",
    "    techno = df.iloc[i]['Techno/Funk']\n",
    "    if techno == 'Yes':\n",
    "        df.iloc[i]['Techno/Funk'] = 1\n",
    "    elif techno == 'No':\n",
    "        df.iloc[i]['Techno/Funk'] = -1\n",
    "    else:\n",
    "        df.iloc[i]['Techno/Funk'] = 0\n",
    "    indie = df.iloc[i]['Indie']\n",
    "    if indie == 'Yes':\n",
    "        df.iloc[i]['Indie'] = 1\n",
    "    elif indie == 'No':\n",
    "        df.iloc[i]['Indie'] = -1\n",
    "    else:\n",
    "        df.iloc[i]['Indie'] = 0\n",
    "    hiphop = df.iloc[i]['Hip Hop']\n",
    "    if hiphop == 'Yes':\n",
    "        df.iloc[i]['Hip Hop'] = 1\n",
    "    elif hiphop== 'No':\n",
    "        df.iloc[i]['Hip Hop'] = -1\n",
    "    else:\n",
    "        df.iloc[i]['Hip Hop'] = 0\n",
    "    jazz = df.iloc[i]['Jazz']\n",
    "    if jazz == 'Yes':\n",
    "        df.iloc[i]['Jazz'] = 1\n",
    "    elif jazz == 'No':\n",
    "        df.iloc[i]['Jazz'] = -1\n",
    "    else:\n",
    "        df.iloc[i]['Jazz'] = 0\n",
    "    lullaby = df.iloc[i]['Lullaby']\n",
    "    if lullaby== 'Yes':\n",
    "        df.iloc[i]['Lullaby'] = 1\n",
    "    elif lullaby== 'No':\n",
    "        df.iloc[i]['Lullaby'] = -1\n",
    "    else:\n",
    "        df.iloc[i]['Lullaby'] = 0\n",
    "    jock = df.iloc[i]['Jock Jams']\n",
    "    if jock== 'Yes':\n",
    "        df.iloc[i]['Jock Jams'] = 1\n",
    "    elif jock== 'No':\n",
    "        df.iloc[i]['Jock Jams'] = -1\n",
    "    else:\n",
    "        df.iloc[i]['Jock Jams'] = 0"
   ]
  },
  {
   "cell_type": "code",
   "execution_count": null,
   "metadata": {},
   "outputs": [],
   "source": []
  }
 ],
 "metadata": {
  "kernelspec": {
   "display_name": "Python 3",
   "language": "python",
   "name": "python3"
  },
  "language_info": {
   "codemirror_mode": {
    "name": "ipython",
    "version": 3
   },
   "file_extension": ".py",
   "mimetype": "text/x-python",
   "name": "python",
   "nbconvert_exporter": "python",
   "pygments_lexer": "ipython3",
   "version": "3.5.2"
  }
 },
 "nbformat": 4,
 "nbformat_minor": 2
}
