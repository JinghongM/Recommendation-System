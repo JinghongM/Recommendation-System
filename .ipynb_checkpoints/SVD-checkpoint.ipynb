{
 "cells": [
  {
   "cell_type": "code",
   "execution_count": 3,
   "metadata": {},
   "outputs": [],
   "source": [
    "import pandas as pd\n",
    "from scipy import linalg,dot\n",
    "import sklearn.metrics\n",
    "import numpy as np"
   ]
  },
  {
   "cell_type": "code",
   "execution_count": 4,
   "metadata": {},
   "outputs": [],
   "source": [
    "def transfer_from_dataframe_to_matrix(dataframe,row,col,value):\n",
    "    matrix_row = dataframe[row].max()\n",
    "    matrix_col = dataframe[col].max()\n",
    "    matrix = np.zeros((int(matrix_row),int(matrix_col)))\n",
    "    for index,row_content in dataframe.iterrows():\n",
    "        matrix[int(row_content[row]) - 1][int(row_content[col]) -1] =row_content[value]\n",
    "    return matrix"
   ]
  },
  {
   "cell_type": "markdown",
   "metadata": {},
   "source": [
    "user_activity: user ID, item ID, Fitting Rating, Style Rating, Comments"
   ]
  },
  {
   "cell_type": "code",
   "execution_count": 5,
   "metadata": {},
   "outputs": [
    {
     "name": "stdout",
     "output_type": "stream",
     "text": [
      "1 58 2 5 \n",
      "2 75 5 1 \n",
      "2 61 3 3 \n",
      "2 17 5 3 \n",
      "3 8 5 2 \n",
      "3 22 2 1 \n",
      "3 23 5 5 \n",
      "3 64 3 5 \n",
      "4 76 3 5 \n",
      "4 33 1 1 \n",
      "(1, 58, 5)\n",
      "(2, 75, 1)\n",
      "(2, 61, 3)\n",
      "(2, 17, 3)\n",
      "(3, 8, 2)\n",
      "(3, 22, 1)\n",
      "(3, 23, 5)\n",
      "(3, 64, 5)\n",
      "(4, 76, 5)\n",
      "(4, 33, 1)\n"
     ]
    }
   ],
   "source": [
    "user_activity = sc.textFile(\"/home/jinghong/Recommendation_System/rateFakeData1.txt\")\n",
    "user_activity_header = user_activity.take(1)[0]\n",
    "user_activity_without_header = user_activity.filter(lambda l: l != user_activity_header)\n",
    "user_activity_filter = user_activity_without_header.filter(lambda l: l.split(' ')[0].isdigit() and l.split(' ')[1].isdigit() and l.split(' ')[3].isdigit())\n",
    "for i in user_activity_filter.take(10):print(i)\n",
    "user_activity_filter_map = user_activity_filter.map(lambda l: (int(l.split(' ')[0]),int(l.split(' ')[1]),int(l.split(' ')[3])))\n",
    "for i in user_activity_filter_map.take(10):print(i)"
   ]
  },
  {
   "cell_type": "code",
   "execution_count": 6,
   "metadata": {},
   "outputs": [],
   "source": [
    "user_activity_df = user_activity_filter_map.toDF(schema=['User_ID','Item_ID','Style_Rating']).toPandas()\n",
    "userId = \"User_ID\"\n",
    "itemId = \"Item_ID\"\n",
    "ratingId = \"Style_Rating\"\n",
    "user_rating_matrix = transfer_from_dataframe_to_matrix(user_activity_df,userId,itemId,ratingId)"
   ]
  },
  {
   "cell_type": "markdown",
   "metadata": {},
   "source": [
    "Edit feature here: lambda l:"
   ]
  },
  {
   "cell_type": "code",
   "execution_count": 7,
   "metadata": {},
   "outputs": [
    {
     "name": "stdout",
     "output_type": "stream",
     "text": [
      "1,Yes,4,2.21,39.00,A&I Closeout,https://upload.wikimedia.org/wikipedia/commons/a/ac/No_image_available.svg,No,\\N,No,4,50,70,2018-02-28 19:59:49.418,2018-02-28 19:59:49.418,1,1,2,6,189,2,2,\\N,2,17,\\N,\\N,\\N,\\N,\\N,\\N,\\N,\\N,2,5,\\N,\\N\n",
      "4,Yes,4,2.21,55.00,A&I close out,https://upload.wikimedia.org/wikipedia/commons/a/ac/No_image_available.svg,No,\\N,Yes,4,50,110,2018-02-28 20:07:34.484,2018-02-28 20:07:34.484,1,1,2,6,224,2,2,\\N,2,14,3,\\N,\\N,\\N,\\N,\\N,3,\\N,\\N,\\N,\\N,\\N\n",
      "7,Yes,2,2.21,90.00,A&I close out,https://upload.wikimedia.org/wikipedia/commons/a/ac/No_image_available.svg,No,\\N,Yes,3,50,110,2018-02-28 20:34:43.272,2018-02-28 20:34:43.272,1,2,2,8,224,2,2,\\N,2,14,6,\\N,\\N,\\N,\\N,\\N,1,\\N,\\N,\\N,\\N,\\N\n",
      "8,Yes,4,2.21,78.00,A&I Closeout,https://upload.wikimedia.org/wikipedia/commons/a/ac/No_image_available.svg,No,\\N,No,4,40,70,2018-02-28 20:49:25.092,2018-04-03 18:31:43.402,1,1,1,6,189,2,2,\\N,2,15,\\N,\\N,\\N,\\N,\\N,\\N,\\N,\\N,\\N,\\N,\\N,BP10001\n",
      "9,Yes,3,2.21,-1.00,A&I Closeout,https://upload.wikimedia.org/wikipedia/commons/a/ac/No_image_available.svg,No,\\N,No,4,40,60,2018-02-28 21:09:33.318,2018-02-28 21:09:33.318,1,1,3,6,227,2,2,\\N,2,14,2,\\N,\\N,\\N,\\N,\\N,3,\\N,\\N,\\N,\\N,\\N\n",
      "10,Yes,4,2.21,118.00,A&I close out,https://upload.wikimedia.org/wikipedia/commons/a/ac/No_image_available.svg,No,\\N,Yes,3,50,90,2018-02-28 21:12:18.693,2018-02-28 21:12:18.693,1,1,2,7,225,2,2,\\N,2,14,4,\\N,\\N,\\N,\\N,\\N,7,\\N,\\N,\\N,\\N,2020211\n",
      "11,Yes,4,2.21,119.00,A&I Closeout,https://upload.wikimedia.org/wikipedia/commons/a/ac/No_image_available.svg,No,\\N,No,3,50,90,2018-02-28 21:13:11.992,2018-02-28 21:13:11.992,1,1,2,7,226,2,2,\\N,2,15,\\N,\\N,\\N,\\N,\\N,\\N,\\N,3,\\N,\\N,\\N,\\N\n",
      "13,N/A,4,00.00,32.00,Luxaby close out,https://upload.wikimedia.org/wikipedia/commons/a/ac/No_image_available.svg,No,\\N,\\N,3,60,110,2018-03-02 19:21:28.550,2018-03-02 19:21:28.550,2,3,1,8,223,2,2,\\N,5,5,\\N,\\N,14,\\N,\\N,\\N,\\N,\\N,\\N,\\N,2,510661\n",
      "14,N/A,3,00.00,-1.00,Luxaby close out,https://upload.wikimedia.org/wikipedia/commons/a/ac/No_image_available.svg,No,\\N,\\N,4,50,90,2018-03-02 20:28:53.096,2018-03-02 20:28:53.096,3,9,1,8,228,2,8,\\N,5,9,\\N,\\N,3,\\N,\\N,\\N,\\N,\\N,\\N,\\N,4,N15/11W22\n",
      "15,N/A,2,2.21,-1.00,A&I close out,https://upload.wikimedia.org/wikipedia/commons/a/ac/No_image_available.svg,No,\\N,\\N,4,60,110,2018-03-02 20:39:21.118,2018-03-02 20:39:21.118,1,1,1,9,189,2,2,\\N,2,5,\\N,\\N,14,\\N,\\N,\\N,\\N,\\N,\\N,\\N,2,\\N\n"
     ]
    }
   ],
   "source": [
    "item_RDD = sc.textFile(\"file:///home/jinghong/Recommendation_System/items.csv\")\n",
    "item_RDD_map = item_RDD.map(lambda l: (l.split(',')[0],l.split(',')[1],l.split(',')[2],l.split(',')[7]))\n",
    "for i in item_RDD.take(10):print(i)"
   ]
  },
  {
   "cell_type": "code",
   "execution_count": 8,
   "metadata": {},
   "outputs": [
    {
     "name": "stdout",
     "output_type": "stream",
     "text": [
      "(1, 1, 4, -1)\n",
      "(4, 1, 4, -1)\n",
      "(7, 1, 2, -1)\n",
      "(8, 1, 4, -1)\n",
      "(9, 1, 3, -1)\n",
      "(10, 1, 4, -1)\n",
      "(11, 1, 4, -1)\n",
      "(13, -1, 4, -1)\n",
      "(14, -1, 3, -1)\n",
      "(15, -1, 2, -1)\n"
     ]
    }
   ],
   "source": [
    "item_RDD_map = item_RDD_map.map(lambda l: (int(l[0]), 1 if l[1] == 'Yes' else -1, int(l[2]), 1 if l[3] == 'Yes' else -1))\n",
    "for i in item_RDD_map.take(10):print(i)"
   ]
  },
  {
   "cell_type": "code",
   "execution_count": 9,
   "metadata": {},
   "outputs": [],
   "source": [
    "item_DF = item_RDD_map.toDF(schema=['Item_ID','Ad_waist','Durability','Is_organic']).toPandas()\n",
    "item_number =item_DF['Item_ID'].max() #Item ID\n",
    "feature_number = item_DF.shape[1]"
   ]
  },
  {
   "cell_type": "code",
   "execution_count": 10,
   "metadata": {},
   "outputs": [],
   "source": [
    "zero_matrix = np.zeros((user_rating_matrix.shape[0],item_number - user_rating_matrix.shape[1]),dtype = user_rating_matrix.dtype)\n",
    "user_rating_matrix_total = np.concatenate((user_rating_matrix,zero_matrix),axis = 1)"
   ]
  },
  {
   "cell_type": "code",
   "execution_count": 11,
   "metadata": {},
   "outputs": [],
   "source": [
    "item_matrix = np.zeros((item_number,feature_number))\n",
    "for index,row_content in item_DF.iterrows():\n",
    "    item_matrix[row_content['Item_ID'] - 1] = row_content"
   ]
  },
  {
   "cell_type": "code",
   "execution_count": 12,
   "metadata": {},
   "outputs": [
    {
     "name": "stdout",
     "output_type": "stream",
     "text": [
      "(10000, 262)\n",
      "(262, 4)\n"
     ]
    }
   ],
   "source": [
    "print(user_rating_matrix_total.shape)\n",
    "print(item_matrix.shape)"
   ]
  },
  {
   "cell_type": "code",
   "execution_count": 13,
   "metadata": {},
   "outputs": [
    {
     "data": {
      "text/plain": [
       "array([[ 2.10738234e-04,  3.63341782e-06,  1.81670891e-05,\n",
       "        -3.63341782e-06],\n",
       "       [ 2.24545221e-04,  3.63341782e-06,  1.67137220e-05,\n",
       "        -5.08678495e-06],\n",
       "       [ 3.43721326e-04,  7.26683565e-07,  4.43276974e-05,\n",
       "        -9.44688634e-06],\n",
       "       ...,\n",
       "       [ 2.20911804e-04, -2.90673426e-06,  5.81346852e-06,\n",
       "        -2.90673426e-06],\n",
       "       [ 1.92571145e-04, -5.08678495e-06,  2.10738234e-05,\n",
       "        -5.08678495e-06],\n",
       "       [ 1.27896307e-04, -2.90673426e-06,  5.81346852e-06,\n",
       "        -2.90673426e-06]])"
      ]
     },
     "execution_count": 13,
     "metadata": {},
     "output_type": "execute_result"
    }
   ],
   "source": [
    "userprof = dot(user_rating_matrix_total,item_matrix) / linalg.norm(user_rating_matrix_total) / linalg.norm(item_matrix)\n",
    "userprof"
   ]
  },
  {
   "cell_type": "code",
   "execution_count": 14,
   "metadata": {},
   "outputs": [],
   "source": [
    "similarityCalc = sklearn.metrics.pairwise.cosine_similarity(userprof,item_matrix,dense_output=True)"
   ]
  },
  {
   "cell_type": "code",
   "execution_count": 15,
   "metadata": {},
   "outputs": [
    {
     "data": {
      "text/plain": [
       "(10000, 262)"
      ]
     },
     "execution_count": 15,
     "metadata": {},
     "output_type": "execute_result"
    }
   ],
   "source": [
    "similarityCalc.shape #row: user, column: item"
   ]
  },
  {
   "cell_type": "markdown",
   "metadata": {},
   "source": [
    "User ID - 1 = row number\n",
    "e.g. final_pred[11] is the similarity of user_ID = 12"
   ]
  },
  {
   "cell_type": "code",
   "execution_count": 20,
   "metadata": {},
   "outputs": [
    {
     "name": "stdout",
     "output_type": "stream",
     "text": [
      "(10000, 262)\n"
     ]
    }
   ],
   "source": [
    "final_pred = np.where(similarityCalc > 0.6,1,0)\n"
   ]
  },
  {
   "cell_type": "code",
   "execution_count": 18,
   "metadata": {},
   "outputs": [
    {
     "data": {
      "text/plain": [
       "(10000, 262)"
      ]
     },
     "execution_count": 18,
     "metadata": {},
     "output_type": "execute_result"
    }
   ],
   "source": [
    "final_pred.shape"
   ]
  },
  {
   "cell_type": "code",
   "execution_count": 17,
   "metadata": {},
   "outputs": [
    {
     "data": {
      "text/plain": [
       "['4,Yes,4,2.21,55.00,A&I close out,https://upload.wikimedia.org/wikipedia/commons/a/ac/No_image_available.svg,No,\\\\N,Yes,4,50,110,2018-02-28 20:07:34.484,2018-02-28 20:07:34.484,1,1,2,6,224,2,2,\\\\N,2,14,3,\\\\N,\\\\N,\\\\N,\\\\N,\\\\N,3,\\\\N,\\\\N,\\\\N,\\\\N,\\\\N',\n",
       " '7,Yes,2,2.21,90.00,A&I close out,https://upload.wikimedia.org/wikipedia/commons/a/ac/No_image_available.svg,No,\\\\N,Yes,3,50,110,2018-02-28 20:34:43.272,2018-02-28 20:34:43.272,1,2,2,8,224,2,2,\\\\N,2,14,6,\\\\N,\\\\N,\\\\N,\\\\N,\\\\N,1,\\\\N,\\\\N,\\\\N,\\\\N,\\\\N',\n",
       " '8,Yes,4,2.21,78.00,A&I Closeout,https://upload.wikimedia.org/wikipedia/commons/a/ac/No_image_available.svg,No,\\\\N,No,4,40,70,2018-02-28 20:49:25.092,2018-04-03 18:31:43.402,1,1,1,6,189,2,2,\\\\N,2,15,\\\\N,\\\\N,\\\\N,\\\\N,\\\\N,\\\\N,\\\\N,\\\\N,\\\\N,\\\\N,\\\\N,BP10001',\n",
       " '9,Yes,3,2.21,-1.00,A&I Closeout,https://upload.wikimedia.org/wikipedia/commons/a/ac/No_image_available.svg,No,\\\\N,No,4,40,60,2018-02-28 21:09:33.318,2018-02-28 21:09:33.318,1,1,3,6,227,2,2,\\\\N,2,14,2,\\\\N,\\\\N,\\\\N,\\\\N,\\\\N,3,\\\\N,\\\\N,\\\\N,\\\\N,\\\\N',\n",
       " '10,Yes,4,2.21,118.00,A&I close out,https://upload.wikimedia.org/wikipedia/commons/a/ac/No_image_available.svg,No,\\\\N,Yes,3,50,90,2018-02-28 21:12:18.693,2018-02-28 21:12:18.693,1,1,2,7,225,2,2,\\\\N,2,14,4,\\\\N,\\\\N,\\\\N,\\\\N,\\\\N,7,\\\\N,\\\\N,\\\\N,\\\\N,2020211',\n",
       " '11,Yes,4,2.21,119.00,A&I Closeout,https://upload.wikimedia.org/wikipedia/commons/a/ac/No_image_available.svg,No,\\\\N,No,3,50,90,2018-02-28 21:13:11.992,2018-02-28 21:13:11.992,1,1,2,7,226,2,2,\\\\N,2,15,\\\\N,\\\\N,\\\\N,\\\\N,\\\\N,\\\\N,\\\\N,3,\\\\N,\\\\N,\\\\N,\\\\N',\n",
       " '13,N/A,4,00.00,32.00,Luxaby close out,https://upload.wikimedia.org/wikipedia/commons/a/ac/No_image_available.svg,No,\\\\N,\\\\N,3,60,110,2018-03-02 19:21:28.550,2018-03-02 19:21:28.550,2,3,1,8,223,2,2,\\\\N,5,5,\\\\N,\\\\N,14,\\\\N,\\\\N,\\\\N,\\\\N,\\\\N,\\\\N,\\\\N,2,510661',\n",
       " '14,N/A,3,00.00,-1.00,Luxaby close out,https://upload.wikimedia.org/wikipedia/commons/a/ac/No_image_available.svg,No,\\\\N,\\\\N,4,50,90,2018-03-02 20:28:53.096,2018-03-02 20:28:53.096,3,9,1,8,228,2,8,\\\\N,5,9,\\\\N,\\\\N,3,\\\\N,\\\\N,\\\\N,\\\\N,\\\\N,\\\\N,\\\\N,4,N15/11W22',\n",
       " '15,N/A,2,2.21,-1.00,A&I close out,https://upload.wikimedia.org/wikipedia/commons/a/ac/No_image_available.svg,No,\\\\N,\\\\N,4,60,110,2018-03-02 20:39:21.118,2018-03-02 20:39:21.118,1,1,1,9,189,2,2,\\\\N,2,5,\\\\N,\\\\N,14,\\\\N,\\\\N,\\\\N,\\\\N,\\\\N,\\\\N,\\\\N,2,\\\\N',\n",
       " '16,Yes,4,2.21,-1.00,A&I close out,https://upload.wikimedia.org/wikipedia/commons/a/ac/No_image_available.svg,No,\\\\N,No,3,60,110,2018-03-02 21:36:42.450,2018-03-02 21:36:42.450,1,1,1,7,223,2,2,\\\\N,2,15,\\\\N,\\\\N,\\\\N,\\\\N,\\\\N,\\\\N,\\\\N,\\\\N,\\\\N,\\\\N,\\\\N,\\\\N',\n",
       " '17,Yes,4,2.21,-1.00,A&I close out,https://upload.wikimedia.org/wikipedia/commons/a/ac/No_image_available.svg,No,\\\\N,No,3,60,110,2018-03-02 22:03:58.823,2018-03-02 22:03:58.823,1,1,1,8,223,2,2,\\\\N,2,15,\\\\N,\\\\N,\\\\N,\\\\N,\\\\N,\\\\N,\\\\N,3,\\\\N,\\\\N,\\\\N,\\\\N',\n",
       " '18,Yes,3,00.00,96.00,A&I Closeout,https://upload.wikimedia.org/wikipedia/commons/a/ac/No_image_available.svg,No,\\\\N,No,2,70,110,2018-03-05 19:06:09.564,2018-03-05 19:06:09.564,1,1,2,8,223,2,2,\\\\N,2,17,\\\\N,\\\\N,\\\\N,\\\\N,\\\\N,\\\\N,\\\\N,\\\\N,2,3,\\\\N,\\\\N',\n",
       " '19,No,3,00.00,-1.00,A&I Closeout,https://upload.wikimedia.org/wikipedia/commons/a/ac/No_image_available.svg,No,\\\\N,No,3,90,110,2018-03-05 19:30:03.277,2018-03-05 19:30:03.277,1,1,1,8,112,2,2,\\\\N,2,15,\\\\N,\\\\N,\\\\N,\\\\N,\\\\N,\\\\N,\\\\N,3,\\\\N,\\\\N,\\\\N,\\\\N',\n",
       " '20,No,3,00.00,107.00,A&I Closeout,https://upload.wikimedia.org/wikipedia/commons/a/ac/No_image_available.svg,No,\\\\N,No,2,80,100,2018-03-05 19:37:03.830,2018-03-05 19:37:03.830,1,1,1,8,112,2,2,\\\\N,2,14,3,\\\\N,\\\\N,\\\\N,\\\\N,\\\\N,7,\\\\N,\\\\N,\\\\N,\\\\N,10002',\n",
       " '21,No,2,00.00,107.00,A&I Closeout,https://upload.wikimedia.org/wikipedia/commons/a/ac/No_image_available.svg,No,\\\\N,\\\\N,2,90,110,2018-03-05 20:20:24.615,2018-03-05 20:20:24.615,1,1,3,8,229,2,10,\\\\N,2,8,\\\\N,\\\\N,3,\\\\N,\\\\N,\\\\N,\\\\N,\\\\N,\\\\N,\\\\N,1,\\\\N',\n",
       " '22,N/A,3,00.00,75.00,A&I Closeout,https://upload.wikimedia.org/wikipedia/commons/a/ac/No_image_available.svg,No,\\\\N,\\\\N,4,40,60,2018-03-05 21:11:59.083,2018-03-05 21:11:59.083,1,1,2,8,223,2,2,\\\\N,2,6,\\\\N,\\\\N,8,\\\\N,\\\\N,\\\\N,\\\\N,\\\\N,\\\\N,\\\\N,4,K10000',\n",
       " '23,No,5,2.21,100.00,Anais and I,https://upload.wikimedia.org/wikipedia/commons/a/ac/No_image_available.svg,No,\\\\N,\\\\N,1,0,80,2018-03-07 17:28:29.925,2018-03-07 17:28:29.925,1,1,3,7,230,2,2,\\\\N,2,14,3,\\\\N,\\\\N,\\\\N,\\\\N,\\\\N,6,\\\\N,\\\\N,\\\\N,\\\\N,\\\\N',\n",
       " '24,No,5,2.21,64.00,Anais and I,https://upload.wikimedia.org/wikipedia/commons/a/ac/No_image_available.svg,No,\\\\N,\\\\N,2,60,110,2018-03-07 17:50:15.020,2018-03-07 17:50:15.020,1,1,3,7,227,2,2,\\\\N,2,15,\\\\N,\\\\N,\\\\N,\\\\N,\\\\N,\\\\N,\\\\N,3,\\\\N,\\\\N,\\\\N,\\\\N',\n",
       " '25,Yes,4,2.21,100.00,Anais & I,https://upload.wikimedia.org/wikipedia/commons/a/ac/No_image_available.svg,No,\\\\N,\\\\N,4,0,80,2018-03-07 18:04:34.546,2018-03-07 18:04:34.546,1,1,1,7,223,2,2,\\\\N,2,14,3,\\\\N,\\\\N,\\\\N,\\\\N,\\\\N,8,\\\\N,\\\\N,\\\\N,\\\\N,\\\\N',\n",
       " '26,N/A,2,2.21,99.00,Anais & I Closeout,https://upload.wikimedia.org/wikipedia/commons/a/ac/No_image_available.svg,Yes,\\\\N,\\\\N,2,40,80,2018-03-07 18:36:43.211,2018-03-07 18:36:43.211,1,1,3,8,223,2,2,\\\\N,2,1,\\\\N,\\\\N,1,\\\\N,\\\\N,\\\\N,\\\\N,\\\\N,\\\\N,\\\\N,4,\\\\N',\n",
       " '27,Yes,2,2.21,79.00,Anais & I Closeout,https://upload.wikimedia.org/wikipedia/commons/a/ac/No_image_available.svg,No,No,\\\\N,3,60,80,2018-03-07 19:19:58.713,2018-03-07 19:19:58.713,1,1,3,9,231,2,2,\\\\N,2,24,\\\\N,20,\\\\N,\\\\N,\\\\N,\\\\N,\\\\N,\\\\N,\\\\N,\\\\N,\\\\N,\\\\N',\n",
       " '28,Yes,5,00.00,30.00,Luxaby,https://upload.wikimedia.org/wikipedia/commons/a/ac/No_image_available.svg,No,\\\\N,\\\\N,1,0,80,2018-03-07 19:28:11.124,2018-03-07 19:28:11.124,2,1,3,10,223,2,2,\\\\N,5,14,3,\\\\N,\\\\N,\\\\N,\\\\N,\\\\N,6,\\\\N,\\\\N,\\\\N,\\\\N,\\\\N',\n",
       " '29,Yes,5,00.00,78.00,Luxaby,https://upload.wikimedia.org/wikipedia/commons/a/ac/No_image_available.svg,No,\\\\N,\\\\N,1,0,80,2018-03-07 19:45:58.100,2018-03-07 19:45:58.100,4,11,2,11,223,2,8,\\\\N,5,14,3,\\\\N,\\\\N,\\\\N,\\\\N,\\\\N,6,\\\\N,\\\\N,\\\\N,\\\\N,\\\\N',\n",
       " '30,Yes,2,2.21,79.00,Anais & I Closeout,https://upload.wikimedia.org/wikipedia/commons/a/ac/No_image_available.svg,No,\\\\N,\\\\N,2,70,110,2018-03-07 20:27:30.514,2018-03-07 20:27:30.514,1,1,2,7,17,2,2,\\\\N,2,15,\\\\N,\\\\N,\\\\N,\\\\N,\\\\N,\\\\N,\\\\N,\\\\N,\\\\N,\\\\N,\\\\N,2039211',\n",
       " '31,No,5,2.21,100.00,Anais and I,https://upload.wikimedia.org/wikipedia/commons/a/ac/No_image_available.svg,No,\\\\N,\\\\N,2,0,80,2018-03-07 20:32:39.826,2018-03-07 20:32:39.826,1,1,3,12,223,2,2,\\\\N,2,14,3,\\\\N,\\\\N,\\\\N,\\\\N,\\\\N,6,\\\\N,\\\\N,\\\\N,\\\\N,\\\\N',\n",
       " '32,No,5,2.21,100.00,Anais and I,https://upload.wikimedia.org/wikipedia/commons/a/ac/No_image_available.svg,No,\\\\N,\\\\N,2,0,80,2018-03-07 20:37:36.590,2018-03-07 20:37:36.590,1,1,3,7,223,2,2,\\\\N,2,14,3,\\\\N,\\\\N,\\\\N,\\\\N,\\\\N,6,\\\\N,\\\\N,\\\\N,\\\\N,\\\\N',\n",
       " '33,Yes,2,2.21,79.00,Anais & I Closeout,https://upload.wikimedia.org/wikipedia/commons/a/ac/No_image_available.svg,No,\\\\N,\\\\N,2,70,110,2018-03-07 20:52:17.125,2018-03-07 20:52:17.125,1,1,2,7,17,2,2,\\\\N,2,15,\\\\N,\\\\N,\\\\N,\\\\N,\\\\N,\\\\N,\\\\N,3,\\\\N,\\\\N,\\\\N,\\\\N',\n",
       " '34,Yes,2,2.21,79.00,Anais & I Closeout,https://upload.wikimedia.org/wikipedia/commons/a/ac/No_image_available.svg,No,\\\\N,\\\\N,2,70,110,2018-03-07 20:59:03.719,2018-03-07 20:59:03.719,1,1,2,13,14,9,2,\\\\N,2,15,\\\\N,\\\\N,\\\\N,\\\\N,\\\\N,\\\\N,\\\\N,3,\\\\N,\\\\N,\\\\N,\\\\N',\n",
       " '35,Yes,3,2.21,79.00,Anais & I Closeout,https://upload.wikimedia.org/wikipedia/commons/a/ac/No_image_available.svg,No,\\\\N,\\\\N,2,60,90,2018-03-07 21:09:18.794,2018-03-07 21:09:18.794,1,1,2,8,232,8,9,\\\\N,2,14,6,\\\\N,\\\\N,\\\\N,\\\\N,\\\\N,2,\\\\N,\\\\N,\\\\N,\\\\N,\\\\N',\n",
       " '36,No,5,2.21,100.00,Anais and I,https://upload.wikimedia.org/wikipedia/commons/a/ac/No_image_available.svg,No,\\\\N,\\\\N,1,60,110,2018-03-07 21:09:32.939,2018-03-07 21:09:32.939,1,1,3,7,223,2,2,\\\\N,2,15,\\\\N,\\\\N,\\\\N,\\\\N,\\\\N,\\\\N,\\\\N,\\\\N,\\\\N,\\\\N,\\\\N,\\\\N',\n",
       " '37,Yes,2,2.21,99.00,Anais & I Closeout,https://upload.wikimedia.org/wikipedia/commons/a/ac/No_image_available.svg,No,\\\\N,\\\\N,2,60,90,2018-03-07 21:23:14.015,2018-03-07 21:23:14.015,1,1,2,8,232,8,9,\\\\N,2,18,\\\\N,\\\\N,\\\\N,\\\\N,\\\\N,\\\\N,\\\\N,\\\\N,\\\\N,\\\\N,\\\\N,\\\\N',\n",
       " '38,Yes,2,2.21,99.00,Anais & I Closeout,https://upload.wikimedia.org/wikipedia/commons/a/ac/No_image_available.svg,No,No,\\\\N,2,70,110,2018-03-07 21:47:18.721,2018-03-07 21:47:18.721,1,1,2,8,232,9,9,\\\\N,2,24,\\\\N,2,\\\\N,\\\\N,\\\\N,\\\\N,\\\\N,\\\\N,\\\\N,\\\\N,\\\\N,\\\\N',\n",
       " '39,Yes,2,2.21,79.00,Anais & I Closeout,https://upload.wikimedia.org/wikipedia/commons/a/ac/No_image_available.svg,No,\\\\N,\\\\N,2,70,110,2018-03-07 21:54:27.487,2018-03-07 21:54:27.487,1,1,2,8,232,8,10,\\\\N,2,19,\\\\N,\\\\N,\\\\N,\\\\N,\\\\N,\\\\N,\\\\N,\\\\N,\\\\N,\\\\N,\\\\N,\\\\N',\n",
       " '40,No,5,2.21,100.00,Anais and I Closeout,https://upload.wikimedia.org/wikipedia/commons/a/ac/No_image_available.svg,No,\\\\N,\\\\N,1,0,80,2018-03-07 22:14:02.548,2018-03-07 22:14:02.548,1,1,3,12,223,2,2,\\\\N,2,14,3,\\\\N,\\\\N,\\\\N,\\\\N,\\\\N,6,\\\\N,\\\\N,\\\\N,\\\\N,6000',\n",
       " '41,Yes,2,2.21,69.00,Anais & I Closeout,https://upload.wikimedia.org/wikipedia/commons/a/ac/No_image_available.svg,No,\\\\N,\\\\N,3,70,90,2018-03-07 22:17:25.025,2018-03-07 22:17:25.025,1,1,2,8,74,2,2,\\\\N,2,14,6,\\\\N,\\\\N,\\\\N,\\\\N,\\\\N,2,\\\\N,\\\\N,\\\\N,\\\\N,\\\\N',\n",
       " '42,N/A,1,2.21,59.00,Anais & I Closeout,https://upload.wikimedia.org/wikipedia/commons/a/ac/No_image_available.svg,No,\\\\N,\\\\N,2,70,110,2018-03-07 22:24:07.395,2018-03-07 22:24:07.395,1,1,2,8,233,2,10,\\\\N,2,1,\\\\N,\\\\N,3,\\\\N,\\\\N,\\\\N,\\\\N,\\\\N,\\\\N,\\\\N,1,\\\\N',\n",
       " '43,Yes,2,2.21,89.00,Anais & I Closeout,https://upload.wikimedia.org/wikipedia/commons/a/ac/No_image_available.svg,No,\\\\N,\\\\N,2,70,100,2018-03-07 22:27:05.845,2018-03-07 22:27:05.845,1,1,2,8,233,2,10,\\\\N,2,14,6,\\\\N,\\\\N,\\\\N,\\\\N,\\\\N,2,\\\\N,\\\\N,\\\\N,\\\\N,\\\\N',\n",
       " '44,N/A,2,2.21,59.00,Anais & I Closeout,https://upload.wikimedia.org/wikipedia/commons/a/ac/No_image_available.svg,No,\\\\N,\\\\N,2,60,110,2018-03-07 22:51:55.318,2018-03-07 22:51:55.318,1,1,1,8,24,2,10,\\\\N,2,2,\\\\N,\\\\N,14,\\\\N,\\\\N,\\\\N,\\\\N,\\\\N,\\\\N,\\\\N,2,1045511',\n",
       " '47,N/A,2,2.21,49.00,Anais & I Closeout,https://upload.wikimedia.org/wikipedia/commons/a/ac/No_image_available.svg,No,\\\\N,\\\\N,3,60,110,2018-03-07 23:07:31.026,2018-03-07 23:07:31.026,1,1,3,8,97,2,2,\\\\N,2,9,\\\\N,\\\\N,3,\\\\N,\\\\N,\\\\N,\\\\N,\\\\N,\\\\N,\\\\N,2,1047511',\n",
       " '48,N/A,3,2.21,89.00,Anais & I Closeout,https://upload.wikimedia.org/wikipedia/commons/a/ac/No_image_available.svg,No,No,\\\\N,3,50,80,2018-03-07 23:21:06.189,2018-03-07 23:21:06.189,1,1,2,14,237,2,2,\\\\N,2,24,\\\\N,20,\\\\N,\\\\N,\\\\N,\\\\N,\\\\N,\\\\N,\\\\N,\\\\N,\\\\N,\\\\N',\n",
       " '49,N/A,2,2.21,69.00,Anais & I Closeout,https://upload.wikimedia.org/wikipedia/commons/a/ac/No_image_available.svg,No,\\\\N,\\\\N,2,60,80,2018-03-07 23:26:25.269,2018-03-07 23:26:25.269,1,1,3,8,227,2,10,\\\\N,2,2,\\\\N,\\\\N,14,\\\\N,\\\\N,\\\\N,\\\\N,\\\\N,\\\\N,\\\\N,4,\\\\N',\n",
       " '50,N/A,2,2.21,59.00,Anais & I Closeout,https://upload.wikimedia.org/wikipedia/commons/a/ac/No_image_available.svg,No,\\\\N,\\\\N,2,60,90,2018-03-07 23:28:53.063,2018-03-07 23:28:53.063,1,1,1,8,227,2,2,\\\\N,2,5,\\\\N,\\\\N,14,\\\\N,\\\\N,\\\\N,\\\\N,\\\\N,\\\\N,\\\\N,2,\\\\N',\n",
       " '52,N/A,2,2.21,98.00,Anais and I Closeout,https://upload.wikimedia.org/wikipedia/commons/a/ac/No_image_available.svg,No,No,\\\\N,3,60,110,2018-03-08 16:15:19.815,2018-03-08 16:15:19.815,1,1,2,8,223,2,2,\\\\N,2,24,\\\\N,5,\\\\N,\\\\N,\\\\N,\\\\N,\\\\N,\\\\N,\\\\N,\\\\N,\\\\N,3043211',\n",
       " '55,No,2,2.21,68.00,Anais and I Closeout,https://upload.wikimedia.org/wikipedia/commons/a/ac/No_image_available.svg,No,\\\\N,\\\\N,3,70,110,2018-03-08 20:59:31.885,2018-03-08 20:59:31.885,1,1,2,8,238,2,2,\\\\N,2,1,\\\\N,\\\\N,4,\\\\N,\\\\N,\\\\N,\\\\N,\\\\N,\\\\N,\\\\N,1,1049411',\n",
       " '56,Yes,5,2.21,84.00,Anais and I Closeout,https://upload.wikimedia.org/wikipedia/commons/a/ac/No_image_available.svg,No,\\\\N,\\\\N,2,70,110,2018-03-09 15:11:31.440,2018-03-09 15:11:31.440,1,1,3,7,230,2,2,\\\\N,2,15,\\\\N,\\\\N,\\\\N,\\\\N,\\\\N,\\\\N,\\\\N,\\\\N,\\\\N,\\\\N,\\\\N,\\\\N',\n",
       " '57,Yes,5,2.21,84.00,Anais and I Closeout,https://upload.wikimedia.org/wikipedia/commons/a/ac/No_image_available.svg,No,\\\\N,\\\\N,2,70,110,2018-03-09 15:15:21.790,2018-03-09 15:15:21.790,1,1,2,7,223,2,2,\\\\N,2,15,\\\\N,\\\\N,\\\\N,\\\\N,\\\\N,\\\\N,\\\\N,\\\\N,\\\\N,\\\\N,\\\\N,\\\\N',\n",
       " '58,Yes,5,2.21,84.00,Anais and I Closeout,https://upload.wikimedia.org/wikipedia/commons/a/ac/No_image_available.svg,No,\\\\N,\\\\N,2,70,110,2018-03-09 15:19:26.579,2018-03-09 15:19:26.579,1,1,2,7,230,2,2,\\\\N,2,15,\\\\N,\\\\N,\\\\N,\\\\N,\\\\N,\\\\N,\\\\N,\\\\N,\\\\N,\\\\N,\\\\N,\\\\N',\n",
       " '59,Yes,5,2.21,98.00,Anais and I Closeout,https://upload.wikimedia.org/wikipedia/commons/a/ac/No_image_available.svg,No,\\\\N,\\\\N,2,0,80,2018-03-09 16:47:10.846,2018-03-09 16:47:10.846,1,1,3,7,230,2,2,\\\\N,2,14,2,\\\\N,\\\\N,\\\\N,\\\\N,\\\\N,6,\\\\N,\\\\N,\\\\N,\\\\N,\\\\N',\n",
       " '60,Yes,5,2.21,64.00,Anais and I Closeout,https://upload.wikimedia.org/wikipedia/commons/a/ac/No_image_available.svg,No,\\\\N,\\\\N,1,70,110,2018-03-09 16:55:06.915,2018-03-09 16:55:06.915,1,1,2,7,230,2,2,\\\\N,2,15,\\\\N,\\\\N,\\\\N,\\\\N,\\\\N,\\\\N,\\\\N,2,\\\\N,\\\\N,\\\\N,\\\\N',\n",
       " '61,Yes,3,2.21,68.00,Anais and I Closeout,https://upload.wikimedia.org/wikipedia/commons/a/ac/No_image_available.svg,No,\\\\N,\\\\N,3,70,110,2018-03-09 17:04:37.996,2018-03-09 17:04:37.996,1,1,3,15,223,2,2,\\\\N,2,15,\\\\N,\\\\N,\\\\N,\\\\N,\\\\N,\\\\N,\\\\N,3,\\\\N,\\\\N,\\\\N,\\\\N',\n",
       " '62,Yes,5,2.21,98.00,Anais and I Closeout,https://upload.wikimedia.org/wikipedia/commons/a/ac/No_image_available.svg,No,\\\\N,\\\\N,1,0,70,2018-03-09 17:11:18.689,2018-03-09 17:11:18.689,1,1,3,7,230,2,2,\\\\N,2,14,3,\\\\N,\\\\N,\\\\N,\\\\N,\\\\N,6,\\\\N,\\\\N,\\\\N,\\\\N,\\\\N',\n",
       " '63,Yes,5,2.21,98.00,Anais and I Closeout,https://upload.wikimedia.org/wikipedia/commons/a/ac/No_image_available.svg,No,\\\\N,\\\\N,1,0,80,2018-03-09 17:22:46.565,2018-03-09 17:22:46.565,1,1,2,7,230,2,2,\\\\N,2,14,3,\\\\N,\\\\N,\\\\N,\\\\N,\\\\N,6,\\\\N,\\\\N,\\\\N,\\\\N,\\\\N',\n",
       " '64,Yes,5,2.21,98.00,Anais and I Closeout,https://upload.wikimedia.org/wikipedia/commons/a/ac/No_image_available.svg,No,\\\\N,\\\\N,1,0,80,2018-03-09 17:27:17.957,2018-03-09 17:27:17.957,1,1,3,7,230,2,2,\\\\N,2,14,3,\\\\N,\\\\N,\\\\N,\\\\N,\\\\N,6,\\\\N,\\\\N,\\\\N,\\\\N,\\\\N',\n",
       " '65,Yes,5,2.21,68.00,Anais and I Closeout,https://upload.wikimedia.org/wikipedia/commons/a/ac/No_image_available.svg,No,\\\\N,\\\\N,1,70,110,2018-03-09 17:31:53.659,2018-03-09 17:31:53.659,1,1,3,7,230,2,2,\\\\N,2,15,\\\\N,\\\\N,\\\\N,\\\\N,\\\\N,\\\\N,\\\\N,\\\\N,\\\\N,\\\\N,\\\\N,8000',\n",
       " '66,N/A,2,2.21,32.00,Luxaby,https://upload.wikimedia.org/wikipedia/commons/a/ac/No_image_available.svg,No,\\\\N,\\\\N,4,40,110,2018-03-09 17:43:59.544,2018-03-09 17:43:59.544,6,3,1,8,223,2,2,\\\\N,5,9,\\\\N,\\\\N,2,\\\\N,\\\\N,\\\\N,\\\\N,\\\\N,\\\\N,\\\\N,2,\\\\N',\n",
       " '67,Yes,4,2.21,80.00,Anais and I Closeout,https://upload.wikimedia.org/wikipedia/commons/a/ac/No_image_available.svg,No,\\\\N,\\\\N,2,0,90,2018-03-09 17:57:20.187,2018-03-09 17:57:20.187,1,1,1,8,223,2,2,\\\\N,2,14,4,\\\\N,\\\\N,\\\\N,\\\\N,\\\\N,7,\\\\N,\\\\N,\\\\N,\\\\N,\\\\N',\n",
       " '68,N/A,2,00.00,110.00,Luxaby,https://upload.wikimedia.org/wikipedia/commons/a/ac/No_image_available.svg,No,\\\\N,\\\\N,2,40,90,2018-03-09 18:20:43.588,2018-03-09 18:20:43.588,7,9,2,8,223,3,2,\\\\N,5,1,\\\\N,\\\\N,4,\\\\N,\\\\N,\\\\N,\\\\N,\\\\N,\\\\N,\\\\N,4,\\\\N',\n",
       " '69,Yes,2,2.21,78.00,Anais and I Closeout,https://upload.wikimedia.org/wikipedia/commons/a/ac/No_image_available.svg,No,\\\\N,\\\\N,2,30,90,2018-03-09 20:01:48.664,2018-03-09 20:01:48.664,1,1,2,16,156,9,10,\\\\N,2,14,6,\\\\N,\\\\N,\\\\N,\\\\N,\\\\N,2,\\\\N,\\\\N,\\\\N,\\\\N,2026211',\n",
       " '70,N/A,3,5.00,83.00,Phisticates,https://upload.wikimedia.org/wikipedia/commons/a/ac/No_image_available.svg,Yes,\\\\N,\\\\N,2,0,70,2018-03-09 20:21:56.116,2018-03-09 20:21:56.116,8,17,1,8,239,2,9,\\\\N,9,7,\\\\N,\\\\N,7,\\\\N,\\\\N,\\\\N,\\\\N,\\\\N,\\\\N,\\\\N,4,\\\\N',\n",
       " '71,N/A,2,00.00,78.00,Luxaby,https://upload.wikimedia.org/wikipedia/commons/a/ac/No_image_available.svg,No,\\\\N,\\\\N,4,0,70,2018-03-09 20:36:08.411,2018-03-09 20:36:08.411,9,1,2,17,240,10,9,\\\\N,2,6,\\\\N,\\\\N,3,\\\\N,\\\\N,\\\\N,\\\\N,\\\\N,\\\\N,\\\\N,4,\\\\N',\n",
       " '72,Yes,4,00.00,78.00,Luxaby,https://upload.wikimedia.org/wikipedia/commons/a/ac/No_image_available.svg,No,\\\\N,\\\\N,2,0,70,2018-03-09 20:41:12.172,2018-03-09 20:41:12.172,4,15,3,18,223,2,9,\\\\N,5,14,3,\\\\N,\\\\N,\\\\N,\\\\N,\\\\N,8,\\\\N,\\\\N,\\\\N,\\\\N,\\\\N',\n",
       " '73,Yes,2,00.00,34.00,Luxaby,https://upload.wikimedia.org/wikipedia/commons/a/ac/No_image_available.svg,No,\\\\N,\\\\N,4,60,90,2018-03-09 20:47:33.822,2018-03-09 20:47:33.822,4,14,2,8,17,3,8,\\\\N,5,9,\\\\N,\\\\N,3,\\\\N,\\\\N,\\\\N,\\\\N,\\\\N,\\\\N,\\\\N,4,\\\\N',\n",
       " '74,Yes,2,00.00,34.00,Luxaby,https://upload.wikimedia.org/wikipedia/commons/a/ac/No_image_available.svg,No,\\\\N,\\\\N,4,60,90,2018-03-09 20:50:03.094,2018-03-09 20:50:03.094,4,14,2,8,17,3,8,\\\\N,5,14,1,\\\\N,\\\\N,\\\\N,\\\\N,\\\\N,5,\\\\N,\\\\N,\\\\N,\\\\N,\\\\N',\n",
       " '75,N/A,2,5.00,90.00,Phisticates,https://upload.wikimedia.org/wikipedia/commons/a/ac/No_image_available.svg,No,\\\\N,\\\\N,3,50,80,2018-03-09 21:35:24.947,2018-03-09 21:35:24.947,5,1,1,13,223,\\\\N,\\\\N,1,9,4,\\\\N,\\\\N,7,\\\\N,\\\\N,\\\\N,\\\\N,\\\\N,\\\\N,\\\\N,4,\\\\N',\n",
       " '76,No,5,2.21,48.00,Anais & I Closeout,https://upload.wikimedia.org/wikipedia/commons/a/ac/No_image_available.svg,No,\\\\N,\\\\N,1,10,80,2018-03-09 21:39:26.082,2018-03-09 21:39:26.082,1,1,3,7,223,2,2,\\\\N,2,14,2,\\\\N,\\\\N,\\\\N,\\\\N,\\\\N,6,\\\\N,\\\\N,\\\\N,\\\\N,\\\\N',\n",
       " '77,No,5,2.21,98.00,Anais & I Closeout,https://upload.wikimedia.org/wikipedia/commons/a/ac/No_image_available.svg,No,\\\\N,\\\\N,2,10,80,2018-03-09 21:43:10.340,2018-03-09 21:43:10.340,1,1,3,7,223,2,2,\\\\N,2,14,2,\\\\N,\\\\N,\\\\N,\\\\N,\\\\N,6,\\\\N,\\\\N,\\\\N,\\\\N,\\\\N',\n",
       " '78,N/A,1,5.00,68.00,Phisticates,https://upload.wikimedia.org/wikipedia/commons/a/ac/No_image_available.svg,No,\\\\N,\\\\N,4,60,100,2018-03-09 21:47:28.261,2018-03-09 21:47:28.261,5,1,1,8,241,2,2,\\\\N,9,5,\\\\N,\\\\N,14,\\\\N,\\\\N,\\\\N,\\\\N,\\\\N,\\\\N,\\\\N,2,\\\\N',\n",
       " '79,N/A,3,5.00,68.00,Phisticates,https://upload.wikimedia.org/wikipedia/commons/a/ac/No_image_available.svg,No,\\\\N,\\\\N,4,20,70,2018-03-09 21:57:49.645,2018-03-09 21:57:49.645,5,1,1,8,242,2,2,\\\\N,9,7,\\\\N,\\\\N,3,\\\\N,\\\\N,\\\\N,\\\\N,\\\\N,\\\\N,\\\\N,4,\\\\N',\n",
       " '80,No,5,2.00,48.00,Luxaby,https://upload.wikimedia.org/wikipedia/commons/a/ac/No_image_available.svg,No,\\\\N,\\\\N,2,10,70,2018-03-09 22:01:55.791,2018-03-09 22:01:55.791,2,1,1,8,223,2,2,\\\\N,5,14,2,\\\\N,\\\\N,\\\\N,\\\\N,\\\\N,8,\\\\N,\\\\N,\\\\N,\\\\N,\\\\N',\n",
       " '81,Yes,3,2.21,98.00,Anais and I Closeout,https://upload.wikimedia.org/wikipedia/commons/a/ac/No_image_available.svg,No,\\\\N,\\\\N,3,0,90,2018-03-12 15:08:37.180,2018-03-12 15:08:37.180,1,1,1,7,223,2,2,\\\\N,2,14,3,\\\\N,\\\\N,\\\\N,\\\\N,\\\\N,7,\\\\N,\\\\N,\\\\N,\\\\N,\\\\N',\n",
       " '82,Yes,2,2.21,78.00,Anais and I Closeout,https://upload.wikimedia.org/wikipedia/commons/a/ac/No_image_available.svg,No,\\\\N,\\\\N,3,40,110,2018-03-12 15:21:52.362,2018-03-12 15:21:52.362,1,1,2,8,232,9,10,\\\\N,2,14,6,\\\\N,\\\\N,\\\\N,\\\\N,\\\\N,2,\\\\N,\\\\N,\\\\N,\\\\N,\\\\N',\n",
       " '83,Yes,2,00.00,88.00,Luxaby,https://upload.wikimedia.org/wikipedia/commons/a/ac/No_image_available.svg,No,\\\\N,\\\\N,2,40,100,2018-03-12 15:32:48.693,2018-03-12 15:32:48.693,10,6,1,8,232,2,2,\\\\N,5,14,4,\\\\N,\\\\N,\\\\N,\\\\N,\\\\N,\\\\N,\\\\N,\\\\N,\\\\N,\\\\N,\\\\N',\n",
       " '84,N/A,2,00.00,84.00,Luxaby,https://upload.wikimedia.org/wikipedia/commons/a/ac/No_image_available.svg,No,No,\\\\N,3,60,110,2018-03-12 16:11:34.184,2018-03-12 16:11:34.184,11,10,2,8,232,2,2,\\\\N,5,26,\\\\N,9,\\\\N,\\\\N,\\\\N,\\\\N,\\\\N,\\\\N,\\\\N,\\\\N,4,\\\\N',\n",
       " '85,N/A,2,2.21,86.00,Anais and I Closeout,https://upload.wikimedia.org/wikipedia/commons/a/ac/No_image_available.svg,No,\\\\N,\\\\N,3,20,70,2018-03-12 16:58:30.436,2018-03-27 20:42:20.873,1,1,3,8,243,2,2,\\\\N,2,6,\\\\N,\\\\N,8,\\\\N,\\\\N,\\\\N,\\\\N,\\\\N,\\\\N,\\\\N,4,BK10000',\n",
       " '86,N/A,2,00.00,98.00,Luxaby,https://upload.wikimedia.org/wikipedia/commons/a/ac/No_image_available.svg,No,\\\\N,\\\\N,2,0,70,2018-03-12 17:13:49.238,2018-03-12 17:13:49.238,12,1,1,8,223,2,10,\\\\N,5,6,\\\\N,\\\\N,2,\\\\N,\\\\N,\\\\N,\\\\N,\\\\N,\\\\N,\\\\N,4,\\\\N',\n",
       " '87,N/A,2,2`.21,72.00,Anais and I Closeout,https://upload.wikimedia.org/wikipedia/commons/a/ac/No_image_available.svg,No,\\\\N,\\\\N,4,40,100,2018-03-12 17:21:09.578,2018-03-12 17:21:09.578,1,1,2,8,223,2,10,\\\\N,2,1,\\\\N,\\\\N,1,\\\\N,\\\\N,\\\\N,\\\\N,\\\\N,\\\\N,\\\\N,4,\\\\N',\n",
       " '88,N/A,3,2.21,86.00,Anais and I Closeout,https://upload.wikimedia.org/wikipedia/commons/a/ac/No_image_available.svg,No,\\\\N,\\\\N,2,20,80,2018-03-12 17:48:30.899,2018-03-12 17:48:30.899,1,1,3,8,244,2,2,\\\\N,2,2,\\\\N,\\\\N,14,\\\\N,\\\\N,\\\\N,\\\\N,\\\\N,\\\\N,\\\\N,4,\\\\N',\n",
       " '89,N/A,2,2.21,108.00,Anais and I Closeout,https://upload.wikimedia.org/wikipedia/commons/a/ac/No_image_available.svg,No,\\\\N,\\\\N,4,40,90,2018-03-12 17:53:03.511,2018-03-12 17:53:03.511,1,1,1,8,223,10,12,\\\\N,2,6,\\\\N,\\\\N,1,\\\\N,\\\\N,\\\\N,\\\\N,\\\\N,\\\\N,\\\\N,4,\\\\N',\n",
       " '90,N/A,2,2.21,74.00,Anais and I Closeout,https://upload.wikimedia.org/wikipedia/commons/a/ac/No_image_available.svg,No,\\\\N,\\\\N,4,50,100,2018-03-12 18:05:05.119,2018-03-12 18:05:05.119,1,1,1,8,245,2,10,\\\\N,2,2,\\\\N,\\\\N,14,\\\\N,\\\\N,\\\\N,\\\\N,\\\\N,\\\\N,\\\\N,2,BT10002',\n",
       " '91,N/A,2,2.21,65.00,Anais and I Closeout,https://upload.wikimedia.org/wikipedia/commons/a/ac/No_image_available.svg,No,\\\\N,\\\\N,3,60,110,2018-03-12 18:15:01.545,2018-03-12 18:15:01.545,1,1,2,8,246,2,2,\\\\N,2,1,\\\\N,\\\\N,\\\\N,\\\\N,\\\\N,\\\\N,\\\\N,\\\\N,\\\\N,\\\\N,1,\\\\N',\n",
       " '92,Yes,3,2.21,70.00,Anais and I Closeout,https://upload.wikimedia.org/wikipedia/commons/a/ac/No_image_available.svg,No,\\\\N,\\\\N,1,70,110,2018-03-12 18:25:58.627,2018-03-12 18:25:58.627,1,1,2,19,248,2,2,\\\\N,2,18,\\\\N,\\\\N,\\\\N,\\\\N,\\\\N,1,\\\\N,\\\\N,\\\\N,\\\\N,\\\\N,\\\\N',\n",
       " '93,No,4,2.21,68.00,Anais and I Closeout,https://upload.wikimedia.org/wikipedia/commons/a/ac/No_image_available.svg,No,\\\\N,\\\\N,2,60,110,2018-03-12 18:40:46.454,2018-03-12 18:40:46.454,1,1,1,8,247,2,2,\\\\N,2,15,\\\\N,\\\\N,\\\\N,\\\\N,\\\\N,\\\\N,\\\\N,3,\\\\N,\\\\N,\\\\N,\\\\N',\n",
       " '94,Yes,3,2.21,68.00,Anais and I Closeout,https://upload.wikimedia.org/wikipedia/commons/a/ac/No_image_available.svg,No,\\\\N,\\\\N,1,70,110,2018-03-12 18:52:18.473,2018-03-12 18:52:18.473,1,1,1,8,20,2,2,\\\\N,2,15,\\\\N,\\\\N,\\\\N,\\\\N,\\\\N,\\\\N,\\\\N,\\\\N,\\\\N,\\\\N,\\\\N,\\\\N',\n",
       " '95,Yes,3,2.21,88.00,Anais and I Closeout,https://upload.wikimedia.org/wikipedia/commons/a/ac/No_image_available.svg,No,\\\\N,\\\\N,1,40,80,2018-03-12 18:55:50.372,2018-03-12 18:55:50.372,1,1,1,8,20,2,2,\\\\N,2,14,3,\\\\N,\\\\N,\\\\N,\\\\N,\\\\N,\\\\N,\\\\N,\\\\N,\\\\N,\\\\N,BP10002',\n",
       " '96,Yes,2,2.21,36.00,Luxaby,https://upload.wikimedia.org/wikipedia/commons/a/ac/No_image_available.svg,No,\\\\N,\\\\N,2,30,100,2018-03-12 19:26:37.627,2018-03-12 19:26:37.627,3,9,1,8,189,2,2,\\\\N,5,14,4,\\\\N,\\\\N,\\\\N,\\\\N,\\\\N,5,\\\\N,\\\\N,\\\\N,\\\\N,\\\\N',\n",
       " '97,No,2,2.21,36.00,Anais and I Closeout,https://upload.wikimedia.org/wikipedia/commons/a/ac/No_image_available.svg,No,\\\\N,\\\\N,2,70,110,2018-03-12 19:34:11.586,2018-03-12 19:34:11.586,1,1,2,8,232,2,2,\\\\N,2,19,\\\\N,\\\\N,\\\\N,\\\\N,\\\\N,1,\\\\N,\\\\N,\\\\N,\\\\N,\\\\N,\\\\N',\n",
       " '98,N/A,1,2.21,68.00,Anais and I Closeout,https://upload.wikimedia.org/wikipedia/commons/a/ac/No_image_available.svg,No,\\\\N,\\\\N,1,30,80,2018-03-12 19:56:45.585,2018-03-12 19:56:45.585,1,1,2,8,249,10,12,\\\\N,2,6,\\\\N,\\\\N,8,\\\\N,\\\\N,\\\\N,\\\\N,\\\\N,\\\\N,\\\\N,4,\\\\N',\n",
       " '99,N/A,2,2.21,86.00,Anais and I Closeout,https://upload.wikimedia.org/wikipedia/commons/a/ac/No_image_available.svg,No,\\\\N,\\\\N,3,30,80,2018-03-12 20:00:01.470,2018-03-12 20:00:01.470,1,1,2,8,249,10,12,\\\\N,2,6,\\\\N,\\\\N,8,\\\\N,\\\\N,\\\\N,\\\\N,\\\\N,\\\\N,\\\\N,4,K8004',\n",
       " '100,N/A,3,2.21,48.00,Luxaby,https://upload.wikimedia.org/wikipedia/commons/a/ac/No_image_available.svg,No,\\\\N,\\\\N,2,0,70,2018-03-12 20:07:35.965,2018-03-12 20:07:35.965,2,3,1,8,250,2,2,\\\\N,5,6,\\\\N,\\\\N,3,\\\\N,\\\\N,\\\\N,\\\\N,\\\\N,\\\\N,\\\\N,4,\\\\N',\n",
       " '101,N/A,3,2.21,48.00,Luxaby,https://upload.wikimedia.org/wikipedia/commons/a/ac/No_image_available.svg,No,\\\\N,\\\\N,2,20,80,2018-03-12 20:11:28.121,2018-03-12 20:11:28.121,2,3,1,8,250,2,2,\\\\N,5,6,\\\\N,\\\\N,2,\\\\N,\\\\N,\\\\N,\\\\N,\\\\N,\\\\N,\\\\N,1,\\\\N',\n",
       " '102,Yes,2,2.21,84.00,Anais and I Closeout,https://upload.wikimedia.org/wikipedia/commons/a/ac/No_image_available.svg,No,\\\\N,\\\\N,2,40,100,2018-03-14 16:22:15.350,2018-03-14 16:22:15.350,1,2,2,20,62,9,2,\\\\N,2,17,\\\\N,\\\\N,\\\\N,\\\\N,\\\\N,\\\\N,\\\\N,\\\\N,2,3,\\\\N,\\\\N',\n",
       " '103,Yes,4,2.21,84.00,Anais and I Closeout,https://upload.wikimedia.org/wikipedia/commons/a/ac/No_image_available.svg,No,\\\\N,\\\\N,2,30,80,2018-03-14 17:43:04.867,2018-03-14 17:43:04.867,1,1,2,19,248,2,2,\\\\N,2,20,\\\\N,\\\\N,\\\\N,\\\\N,\\\\N,\\\\N,\\\\N,\\\\N,\\\\N,\\\\N,\\\\N,\\\\N',\n",
       " '104,Yes,3,2.21,68.00,Anais and I Closeout,https://upload.wikimedia.org/wikipedia/commons/a/ac/No_image_available.svg,No,\\\\N,\\\\N,2,70,100,2018-03-14 17:50:56.521,2018-03-14 17:50:56.521,1,1,2,21,223,\\\\N,\\\\N,1,2,15,\\\\N,\\\\N,\\\\N,\\\\N,\\\\N,\\\\N,\\\\N,\\\\N,\\\\N,\\\\N,\\\\N,\\\\N',\n",
       " '105,N/A,3,2.21,68.00,Luxaby,https://upload.wikimedia.org/wikipedia/commons/a/ac/No_image_available.svg,No,\\\\N,\\\\N,4,0,90,2018-03-14 17:55:25.220,2018-03-14 17:55:25.220,7,9,2,8,225,3,2,\\\\N,5,1,\\\\N,\\\\N,12,\\\\N,\\\\N,\\\\N,\\\\N,\\\\N,\\\\N,\\\\N,4,\\\\N',\n",
       " '106,Yes,4,2.21,82.00,Luxaby,https://upload.wikimedia.org/wikipedia/commons/a/ac/No_image_available.svg,No,\\\\N,\\\\N,2,20,80,2018-03-14 17:59:08.710,2018-03-14 17:59:08.710,4,1,3,7,223,2,2,\\\\N,5,14,2,\\\\N,\\\\N,\\\\N,\\\\N,\\\\N,7,\\\\N,\\\\N,\\\\N,\\\\N,\\\\N',\n",
       " '107,N/A,2,2.21,72.00,Luxaby,https://upload.wikimedia.org/wikipedia/commons/a/ac/No_image_available.svg,No,\\\\N,\\\\N,3,0,70,2018-03-14 18:15:44.108,2018-03-14 18:15:44.108,4,1,3,22,249,2,10,\\\\N,5,6,\\\\N,\\\\N,3,\\\\N,\\\\N,\\\\N,\\\\N,\\\\N,\\\\N,\\\\N,4,\\\\N',\n",
       " '108,N/A,4,2.21,68.00,Luxaby,https://upload.wikimedia.org/wikipedia/commons/a/ac/No_image_available.svg,No,\\\\N,\\\\N,3,20,80,2018-03-14 18:26:12.607,2018-03-14 18:26:12.607,4,1,3,8,251,2,2,\\\\N,5,7,\\\\N,\\\\N,3,\\\\N,\\\\N,\\\\N,\\\\N,\\\\N,\\\\N,\\\\N,4,\\\\N',\n",
       " '110,N/A,2,2.21,139.00,Luxaby,https://upload.wikimedia.org/wikipedia/commons/a/ac/No_image_available.svg,No,\\\\N,\\\\N,5,0,70,2018-03-14 18:57:06.468,2018-03-14 18:57:06.468,13,1,3,23,250,\\\\N,\\\\N,1,5,6,\\\\N,\\\\N,3,\\\\N,\\\\N,\\\\N,\\\\N,\\\\N,\\\\N,\\\\N,4,\\\\N',\n",
       " '111,N/A,1,3.75,68.00,Bunnies Picnic,https://upload.wikimedia.org/wikipedia/commons/a/ac/No_image_available.svg,No,\\\\N,\\\\N,2,50,100,2018-03-14 19:42:02.158,2018-03-29 15:19:21.978,30,1,2,24,252,\\\\N,\\\\N,1,10,3,\\\\N,\\\\N,4,\\\\N,\\\\N,\\\\N,\\\\N,\\\\N,\\\\N,\\\\N,4,\\\\N',\n",
       " \"112,N/A,3,00.00,48.00,Children's Club,https://upload.wikimedia.org/wikipedia/commons/a/ac/No_image_available.svg,No,\\\\N,\\\\N,2,10,70,2018-03-14 20:11:10.239,2018-03-14 20:11:10.239,15,1,2,25,249,10,10,\\\\N,1,6,\\\\N,\\\\N,3,\\\\N,\\\\N,\\\\N,\\\\N,\\\\N,\\\\N,\\\\N,4,\\\\N\",\n",
       " \"113,Yes,2,00.00,64.00,Children's Club,https://upload.wikimedia.org/wikipedia/commons/a/ac/No_image_available.svg,No,\\\\N,\\\\N,2,30,100,2018-03-14 20:48:37.364,2018-03-14 20:48:37.364,15,1,2,25,223,10,11,\\\\N,1,17,\\\\N,\\\\N,\\\\N,\\\\N,\\\\N,\\\\N,\\\\N,\\\\N,2,5,\\\\N,\\\\N\",\n",
       " '114,Yes,3,2.21,64.00,Anais and I Closeout,https://upload.wikimedia.org/wikipedia/commons/a/ac/No_image_available.svg,No,\\\\N,\\\\N,4,30,100,2018-03-14 20:53:05.640,2018-03-14 20:53:05.640,1,1,2,8,223,2,2,\\\\N,2,17,\\\\N,\\\\N,\\\\N,\\\\N,\\\\N,\\\\N,\\\\N,\\\\N,2,5,\\\\N,\\\\N',\n",
       " '115,N/A,4,2.21,38.00,Anais and I Closeout,https://upload.wikimedia.org/wikipedia/commons/a/ac/No_image_available.svg,No,\\\\N,\\\\N,3,0,70,2018-03-14 20:59:22.817,2018-03-14 20:59:22.817,1,1,2,8,251,2,2,\\\\N,2,7,\\\\N,\\\\N,3,\\\\N,\\\\N,\\\\N,\\\\N,\\\\N,\\\\N,\\\\N,4,\\\\N',\n",
       " '116,Yes,3,2.21,52.00,Anais and I Closeout,https://upload.wikimedia.org/wikipedia/commons/a/ac/No_image_available.svg,No,\\\\N,\\\\N,4,20,90,2018-03-14 21:03:40.270,2018-03-14 21:03:40.270,1,1,1,8,223,2,2,\\\\N,2,14,5,\\\\N,\\\\N,\\\\N,\\\\N,\\\\N,3,\\\\N,\\\\N,\\\\N,\\\\N,\\\\N',\n",
       " '117,Yes,2,4.00,34.00,Bunnies Picnic,https://upload.wikimedia.org/wikipedia/commons/a/ac/No_image_available.svg,No,\\\\N,\\\\N,3,60,110,2018-03-15 16:16:06.587,2018-03-29 18:34:19.831,16,6,2,8,156,2,11,\\\\N,10,17,\\\\N,\\\\N,\\\\N,\\\\N,\\\\N,\\\\N,\\\\N,\\\\N,2,3,\\\\N,LENA H',\n",
       " '119,Yes,5,2.21,75.00,Anais and I Closeout,https://upload.wikimedia.org/wikipedia/commons/a/ac/No_image_available.svg,No,\\\\N,\\\\N,1,0,80,2018-03-15 16:28:58.322,2018-03-15 16:28:58.322,1,1,2,7,230,2,2,\\\\N,2,14,2,\\\\N,\\\\N,\\\\N,\\\\N,\\\\N,6,\\\\N,\\\\N,\\\\N,\\\\N,\\\\N',\n",
       " '120,N/A,3,4.00,78.00,Bunnies Picnic,https://upload.wikimedia.org/wikipedia/commons/a/ac/No_image_available.svg,No,\\\\N,\\\\N,3,0,70,2018-03-15 16:43:43.205,2018-03-15 16:43:43.205,17,19,3,8,253,2,12,\\\\N,10,6,\\\\N,\\\\N,2,\\\\N,\\\\N,\\\\N,\\\\N,\\\\N,\\\\N,\\\\N,4,\\\\N',\n",
       " \"121,N/A,1,00.00,50.00,Children's Club,https://upload.wikimedia.org/wikipedia/commons/a/ac/No_image_available.svg,No,\\\\N,\\\\N,3,20,80,2018-03-15 16:51:16.648,2018-03-15 16:51:16.648,15,1,2,26,254,10,11,\\\\N,1,12,\\\\N,\\\\N,3,\\\\N,\\\\N,\\\\N,\\\\N,\\\\N,\\\\N,\\\\N,1,\\\\N\",\n",
       " \"122,N/A,1,00.00,50.00,Children's Club,https://upload.wikimedia.org/wikipedia/commons/a/ac/No_image_available.svg,No,\\\\N,\\\\N,3,20,80,2018-03-15 16:51:17.384,2018-03-15 16:51:17.384,15,1,2,26,254,10,11,\\\\N,1,12,\\\\N,\\\\N,3,\\\\N,\\\\N,\\\\N,\\\\N,\\\\N,\\\\N,\\\\N,1,\\\\N\",\n",
       " '123,No,2,00.00,179.00,Luxaby,https://upload.wikimedia.org/wikipedia/commons/a/ac/No_image_available.svg,No,No,\\\\N,2,0,70,2018-03-15 17:00:00.385,2018-03-15 17:00:00.385,13,1,2,27,255,3,3,\\\\N,5,24,\\\\N,10,\\\\N,\\\\N,\\\\N,\\\\N,\\\\N,\\\\N,\\\\N,\\\\N,2,\\\\N',\n",
       " '124,Yes,2,00.00,98.00,Luxaby,https://upload.wikimedia.org/wikipedia/commons/a/ac/No_image_available.svg,No,\\\\N,\\\\N,2,70,110,2018-03-16 16:36:07.570,2018-03-16 16:36:07.570,18,1,3,8,17,2,4,\\\\N,5,15,\\\\N,\\\\N,\\\\N,\\\\N,\\\\N,\\\\N,\\\\N,3,\\\\N,\\\\N,\\\\N,\\\\N',\n",
       " '125,N/A,1,2.21,75.00,Anais and I Closeout,https://upload.wikimedia.org/wikipedia/commons/a/ac/No_image_available.svg,No,\\\\N,\\\\N,3,30,80,2018-03-16 16:56:59.679,2018-03-16 16:56:59.679,1,1,2,8,249,2,2,\\\\N,2,6,\\\\N,\\\\N,8,\\\\N,\\\\N,\\\\N,\\\\N,\\\\N,\\\\N,\\\\N,4,\\\\N',\n",
       " '126,N/A,3,2.21,86.00,Anais and I Closeout,https://upload.wikimedia.org/wikipedia/commons/a/ac/No_image_available.svg,No,\\\\N,\\\\N,1,50,80,2018-03-16 17:25:50.860,2018-03-16 17:25:50.860,1,1,2,8,225,2,2,\\\\N,2,8,\\\\N,\\\\N,12,\\\\N,\\\\N,\\\\N,\\\\N,\\\\N,\\\\N,\\\\N,1,\\\\N',\n",
       " '127,Yes,4,00.00,69.oo,Luxaby,https://upload.wikimedia.org/wikipedia/commons/a/ac/No_image_available.svg,No,\\\\N,\\\\N,2,70,90,2018-03-16 18:21:07.226,2018-03-16 18:21:07.226,13,1,1,25,256,2,2,\\\\N,5,15,\\\\N,\\\\N,\\\\N,\\\\N,\\\\N,\\\\N,\\\\N,5,\\\\N,\\\\N,\\\\N,\\\\N',\n",
       " '128,N/A,4,2.21,65.00,Anais and I Closeout,https://upload.wikimedia.org/wikipedia/commons/a/ac/No_image_available.svg,No,\\\\N,\\\\N,1,60,90,2018-03-16 18:22:11.141,2018-03-16 18:22:11.141,1,1,3,28,230,2,2,\\\\N,2,12,\\\\N,\\\\N,14,\\\\N,\\\\N,\\\\N,\\\\N,\\\\N,\\\\N,\\\\N,1,\\\\N',\n",
       " '129,No,2,00.00,86.00,Luxaby,https://upload.wikimedia.org/wikipedia/commons/a/ac/No_image_available.svg,No,\\\\N,\\\\N,1,50,70,2018-03-16 18:33:57.521,2018-03-16 18:33:57.521,6,1,1,8,194,2,2,\\\\N,5,14,3,\\\\N,\\\\N,\\\\N,\\\\N,\\\\N,7,\\\\N,\\\\N,\\\\N,\\\\N,\\\\N',\n",
       " '130,No,5,00.00,38.00,Luxaby,https://upload.wikimedia.org/wikipedia/commons/a/ac/No_image_available.svg,No,\\\\N,\\\\N,1,70,110,2018-03-16 19:15:19.592,2018-03-16 19:15:19.592,6,1,2,10,230,2,2,\\\\N,5,15,\\\\N,\\\\N,\\\\N,\\\\N,\\\\N,\\\\N,\\\\N,2,\\\\N,\\\\N,\\\\N,\\\\N',\n",
       " '131,Yes,5,00.00,38.00,Luxaby,https://upload.wikimedia.org/wikipedia/commons/a/ac/No_image_available.svg,No,\\\\N,\\\\N,2,50,70,2018-03-16 19:32:48.500,2018-03-16 19:32:48.500,6,1,1,8,230,2,2,\\\\N,5,14,3,\\\\N,\\\\N,\\\\N,\\\\N,\\\\N,7,\\\\N,\\\\N,\\\\N,\\\\N,\\\\N',\n",
       " '132,N/A,1,2.21,57.00,Anais and I Closeout,https://upload.wikimedia.org/wikipedia/commons/a/ac/No_image_available.svg,No,\\\\N,\\\\N,1,70,100,2018-03-16 19:52:07.929,2018-03-16 19:52:07.929,1,1,2,8,258,2,2,\\\\N,2,1,\\\\N,\\\\N,3,\\\\N,\\\\N,\\\\N,\\\\N,\\\\N,\\\\N,\\\\N,2,\\\\N',\n",
       " '133,No,1,2.21,124.00,Anais and I Closeout,https://upload.wikimedia.org/wikipedia/commons/a/ac/No_image_available.svg,No,No,\\\\N,1,70,110,2018-03-16 20:07:14.689,2018-03-16 20:07:14.689,1,1,2,8,246,1,2,\\\\N,2,24,\\\\N,19,\\\\N,\\\\N,\\\\N,\\\\N,\\\\N,\\\\N,\\\\N,\\\\N,1,\\\\N',\n",
       " '134,Yes,2,2.21,95.00,Anais and I Closeout,https://upload.wikimedia.org/wikipedia/commons/a/ac/No_image_available.svg,No,\\\\N,\\\\N,1,70,110,2018-03-16 20:14:35.938,2018-03-16 20:14:35.938,1,1,2,7,17,2,2,\\\\N,2,15,\\\\N,\\\\N,\\\\N,\\\\N,\\\\N,\\\\N,\\\\N,\\\\N,\\\\N,\\\\N,\\\\N,2019211',\n",
       " '135,Yes,3,2.21,95.00,Anais and I Closeout,https://upload.wikimedia.org/wikipedia/commons/a/ac/No_image_available.svg,No,\\\\N,\\\\N,1,60,80,2018-03-16 20:27:40.038,2018-03-16 20:27:40.038,1,1,2,7,17,2,2,\\\\N,2,14,1,\\\\N,\\\\N,\\\\N,\\\\N,\\\\N,7,\\\\N,\\\\N,\\\\N,\\\\N,2017211',\n",
       " '137,No,1,2.21,124.00,Anais and I Closeout,https://upload.wikimedia.org/wikipedia/commons/a/ac/No_image_available.svg,No,No,\\\\N,1,70,110,2018-03-16 20:49:40.106,2018-03-16 20:49:40.106,1,1,2,8,258,2,2,\\\\N,2,24,\\\\N,19,\\\\N,\\\\N,\\\\N,\\\\N,\\\\N,\\\\N,\\\\N,\\\\N,1,\\\\N',\n",
       " '139,N/A,1,2.21,62.00,Anais & I Closeout,https://upload.wikimedia.org/wikipedia/commons/a/ac/No_image_available.svg,No,\\\\N,\\\\N,1,70,110,2018-03-16 21:10:34.749,2018-03-16 21:10:34.749,1,1,2,8,84,2,11,\\\\N,2,1,\\\\N,\\\\N,3,\\\\N,\\\\N,\\\\N,\\\\N,\\\\N,\\\\N,\\\\N,1,1049411',\n",
       " '140,Yes,1,2.21,64.00,Anais and I Closeout,https://upload.wikimedia.org/wikipedia/commons/a/ac/No_image_available.svg,No,\\\\N,\\\\N,1,60,80,2018-03-16 21:32:07.689,2018-03-16 21:32:07.689,1,1,2,8,84,2,11,\\\\N,2,14,3,\\\\N,\\\\N,\\\\N,\\\\N,\\\\N,4,\\\\N,\\\\N,\\\\N,\\\\N,\\\\N',\n",
       " '141,Yes,2,00.00,38.00,Luxaby,https://upload.wikimedia.org/wikipedia/commons/a/ac/No_image_available.svg,No,\\\\N,\\\\N,1,70,110,2018-03-19 15:49:46.445,2018-03-19 15:49:46.445,2,1,2,29,223,2,2,\\\\N,5,15,\\\\N,\\\\N,\\\\N,\\\\N,\\\\N,\\\\N,\\\\N,3,\\\\N,\\\\N,\\\\N,ELAND 510806',\n",
       " '142,Yes,2,00.00,38.00,Luxaby,https://upload.wikimedia.org/wikipedia/commons/a/ac/No_image_available.svg,No,\\\\N,\\\\N,2,70,110,2018-03-19 16:55:59.750,2018-03-19 16:55:59.750,2,1,1,8,223,2,2,\\\\N,5,15,\\\\N,\\\\N,\\\\N,\\\\N,\\\\N,\\\\N,\\\\N,3,\\\\N,\\\\N,\\\\N,ELAND_6282',\n",
       " '144,N/A,2,2.21,64.00,Anais and I Closeout,https://upload.wikimedia.org/wikipedia/commons/a/ac/No_image_available.svg,No,\\\\N,\\\\N,2,70,110,2018-03-19 19:24:00.571,2018-03-19 19:24:00.571,1,1,2,8,257,2,2,\\\\N,2,1,\\\\N,\\\\N,3,\\\\N,\\\\N,\\\\N,\\\\N,\\\\N,\\\\N,\\\\N,5,Anais & I_1029511',\n",
       " '145,No,3,2.21,103.00,Anais and I Closeout,https://upload.wikimedia.org/wikipedia/commons/a/ac/No_image_available.svg,No,No,\\\\N,2,60,110,2018-03-19 19:35:16.517,2018-03-19 19:35:16.517,1,1,2,8,223,2,2,\\\\N,2,24,\\\\N,2,\\\\N,\\\\N,\\\\N,\\\\N,\\\\N,\\\\N,\\\\N,\\\\N,1,3020211',\n",
       " '146,Yes,5,2.21,64.00,Anais and I Closeout,https://upload.wikimedia.org/wikipedia/commons/a/ac/No_image_available.svg,No,\\\\N,\\\\N,1,60,110,2018-03-19 19:49:23.058,2018-03-19 19:49:23.058,1,1,3,7,230,2,2,\\\\N,2,15,\\\\N,\\\\N,\\\\N,\\\\N,\\\\N,\\\\N,\\\\N,2,\\\\N,\\\\N,\\\\N,Anais & I_2032111',\n",
       " '147,N/A,2,2.21,81.00,Anais and I Closeout,https://upload.wikimedia.org/wikipedia/commons/a/ac/No_image_available.svg,No,\\\\N,\\\\N,4,40,90,2018-03-19 21:00:05.790,2018-03-19 21:00:05.790,1,1,2,8,157,2,11,\\\\N,2,1,\\\\N,\\\\N,1,\\\\N,\\\\N,\\\\N,\\\\N,\\\\N,\\\\N,\\\\N,4,Anais & I_Vincent Tunic',\n",
       " '148,Yes,2,2.21,114.00,Anais and I Closeout,https://upload.wikimedia.org/wikipedia/commons/a/ac/No_image_available.svg,No,\\\\N,\\\\N,2,0,80,2018-03-19 22:13:23.257,2018-03-19 22:13:23.257,1,1,2,7,225,2,2,\\\\N,2,20,\\\\N,\\\\N,\\\\N,\\\\N,\\\\N,\\\\N,\\\\N,\\\\N,\\\\N,\\\\N,\\\\N,Anais & I_2020211',\n",
       " '149,Yes,2,2.21,84.00,Anais and I Closeout,https://upload.wikimedia.org/wikipedia/commons/a/ac/No_image_available.svg,No,\\\\N,\\\\N,3,70,110,2018-03-19 22:43:07.842,2018-03-19 22:43:07.842,1,1,2,7,225,2,2,\\\\N,2,15,\\\\N,\\\\N,\\\\N,\\\\N,\\\\N,\\\\N,\\\\N,3,\\\\N,\\\\N,\\\\N,Anais & I_2042211',\n",
       " '150,Yes,2,2.21,86.00,AnaisandICloseOut,https://upload.wikimedia.org/wikipedia/commons/a/ac/No_image_available.svg,No,\\\\N,\\\\N,2,80,110,2018-03-20 17:45:03.781,2018-03-20 17:45:03.781,1,1,2,8,229,2,11,\\\\N,2,22,\\\\N,\\\\N,\\\\N,\\\\N,\\\\N,\\\\N,\\\\N,\\\\N,\\\\N,\\\\N,\\\\N,\\\\N',\n",
       " '151,N/A,1,2.21,86.00,AnaisandI CloseOut,https://upload.wikimedia.org/wikipedia/commons/a/ac/No_image_available.svg,No,\\\\N,\\\\N,3,60,80,2018-03-20 18:58:33.155,2018-03-20 18:58:33.155,1,1,2,8,259,10,12,\\\\N,2,6,\\\\N,\\\\N,4,\\\\N,\\\\N,\\\\N,\\\\N,\\\\N,\\\\N,\\\\N,4,Anais & I_6036511',\n",
       " '152,No,1,00.00,48.00,Luxaby CloseOut,https://upload.wikimedia.org/wikipedia/commons/a/ac/No_image_available.svg,No,\\\\N,\\\\N,3,60,80,2018-03-20 19:15:11.766,2018-03-20 19:15:11.766,2,1,3,8,222,2,2,\\\\N,5,14,4,\\\\N,\\\\N,\\\\N,\\\\N,\\\\N,7,\\\\N,\\\\N,\\\\N,\\\\N,ELAND_6276',\n",
       " '153,No,5,00.00,38.00,Luxaby CloseOut,https://upload.wikimedia.org/wikipedia/commons/a/ac/No_image_available.svg,No,\\\\N,\\\\N,4,70,100,2018-03-20 19:43:11.429,2018-03-20 19:43:11.429,2,1,1,8,222,2,2,\\\\N,5,15,\\\\N,\\\\N,\\\\N,\\\\N,\\\\N,\\\\N,\\\\N,\\\\N,\\\\N,\\\\N,\\\\N,\\\\N',\n",
       " '154,No,2,00.00,62.00,Proof of Concept,https://upload.wikimedia.org/wikipedia/commons/a/ac/No_image_available.svg,No,\\\\N,\\\\N,2,70,110,2018-03-22 16:36:19.921,2018-03-22 16:36:19.921,20,3,2,8,260,2,2,\\\\N,1,18,\\\\N,\\\\N,\\\\N,\\\\N,\\\\N,6,\\\\N,\\\\N,\\\\N,\\\\N,\\\\N,\\\\N',\n",
       " '155,Yes,2,00.00,72.00,Proof of Concept,https://upload.wikimedia.org/wikipedia/commons/a/ac/No_image_available.svg,No,\\\\N,\\\\N,5,70,110,2018-03-22 16:51:36.512,2018-03-22 16:51:36.512,20,3,3,8,107,2,2,\\\\N,1,19,\\\\N,\\\\N,\\\\N,\\\\N,\\\\N,\\\\N,\\\\N,\\\\N,\\\\N,\\\\N,\\\\N,\\\\N',\n",
       " '156,N/A,2,00.00,72.00,Proof of Concept,https://upload.wikimedia.org/wikipedia/commons/a/ac/No_image_available.svg,No,No,\\\\N,5,60,110,2018-03-22 17:07:50.436,2018-03-22 17:07:50.436,20,3,2,8,107,2,2,\\\\N,2,24,\\\\N,5,\\\\N,\\\\N,\\\\N,\\\\N,\\\\N,\\\\N,\\\\N,\\\\N,1,\\\\N',\n",
       " '157,No,3,00.00,40.00,Proof of Concept,https://upload.wikimedia.org/wikipedia/commons/a/ac/No_image_available.svg,No,\\\\N,\\\\N,2,70,110,2018-03-22 17:16:21.542,2018-03-22 17:16:21.542,20,3,2,25,261,2,2,\\\\N,1,19,\\\\N,\\\\N,\\\\N,\\\\N,\\\\N,7,\\\\N,\\\\N,\\\\N,\\\\N,\\\\N,\\\\N',\n",
       " '158,No,2,00.00,48.00,Proof of Concept,https://upload.wikimedia.org/wikipedia/commons/a/ac/No_image_available.svg,No,No,\\\\N,5,60,110,2018-03-22 17:34:09.678,2018-03-22 17:34:09.678,20,3,2,8,262,2,2,\\\\N,1,24,\\\\N,5,\\\\N,\\\\N,\\\\N,\\\\N,\\\\N,\\\\N,\\\\N,\\\\N,1,\\\\N',\n",
       " '159,N/A,3,00.00,60.00,Proof of Concept,https://upload.wikimedia.org/wikipedia/commons/a/ac/No_image_available.svg,No,\\\\N,\\\\N,3,40,90,2018-03-22 18:05:36.574,2018-03-22 18:05:36.574,21,1,1,8,157,2,2,\\\\N,1,2,\\\\N,\\\\N,14,\\\\N,\\\\N,\\\\N,\\\\N,\\\\N,\\\\N,\\\\N,4,\\\\N',\n",
       " '160,N/A,3,00.00,60.00,Proof of Concept,https://upload.wikimedia.org/wikipedia/commons/a/ac/No_image_available.svg,No,\\\\N,\\\\N,3,40,110,2018-03-22 18:17:53.148,2018-03-22 18:17:53.148,21,1,1,8,17,2,2,\\\\N,1,2,\\\\N,\\\\N,14,\\\\N,\\\\N,\\\\N,\\\\N,\\\\N,\\\\N,\\\\N,4,\\\\N',\n",
       " '161,N/A,3,00.00,60.00,Proof of Concept,https://upload.wikimedia.org/wikipedia/commons/a/ac/No_image_available.svg,No,\\\\N,\\\\N,3,20,80,2018-03-22 18:36:35.263,2018-03-22 18:36:35.263,21,1,1,8,264,2,2,\\\\N,1,2,\\\\N,\\\\N,14,\\\\N,\\\\N,\\\\N,\\\\N,\\\\N,\\\\N,\\\\N,4,\\\\N',\n",
       " '162,N/A,3,00.00,60.00,Proof of Concept,https://upload.wikimedia.org/wikipedia/commons/a/ac/No_image_available.svg,No,\\\\N,\\\\N,3,20,80,2018-03-22 18:58:57.351,2018-03-22 18:58:57.351,21,1,1,8,263,2,2,\\\\N,1,2,\\\\N,\\\\N,10,\\\\N,\\\\N,\\\\N,\\\\N,\\\\N,\\\\N,\\\\N,4,\\\\N',\n",
       " '163,No,3,00.00,60.00,Proof of Concept,https://upload.wikimedia.org/wikipedia/commons/a/ac/No_image_available.svg,No,\\\\N,\\\\N,4,0,70,2018-03-22 19:18:58.839,2018-03-22 19:18:58.839,21,1,1,8,264,2,2,\\\\N,1,2,\\\\N,\\\\N,14,\\\\N,\\\\N,\\\\N,\\\\N,\\\\N,\\\\N,\\\\N,4,\\\\N',\n",
       " '164,Yes,5,2.00,30.00,Nula Closeout,https://upload.wikimedia.org/wikipedia/commons/a/ac/No_image_available.svg,No,\\\\N,\\\\N,5,30,100,2018-03-23 17:32:09.132,2018-03-23 17:32:09.132,22,6,2,30,223,1,3,\\\\N,2,16,\\\\N,\\\\N,\\\\N,\\\\N,\\\\N,\\\\N,\\\\N,\\\\N,\\\\N,\\\\N,\\\\N,NULA_114-003',\n",
       " '165,N/A,3,3.00,30.00,nula closeout,https://upload.wikimedia.org/wikipedia/commons/a/ac/No_image_available.svg,Yes,No,\\\\N,4,70,110,2018-03-23 17:38:50.592,2018-03-23 17:38:50.592,22,6,2,8,260,2,2,\\\\N,2,24,\\\\N,2,\\\\N,\\\\N,\\\\N,\\\\N,\\\\N,\\\\N,\\\\N,\\\\N,6,NULA_111-004',\n",
       " '166,N/A,3,00.00,60.00,proof of concept,https://upload.wikimedia.org/wikipedia/commons/a/ac/No_image_available.svg,No,\\\\N,\\\\N,3,40,110,2018-03-23 17:50:42.751,2018-03-23 17:50:42.751,21,1,1,8,263,2,2,\\\\N,1,2,\\\\N,\\\\N,14,\\\\N,\\\\N,\\\\N,\\\\N,\\\\N,\\\\N,\\\\N,4,\\\\N',\n",
       " '167,Yes,4,19000.00,110q.00,Luxaby CloseOut,https://upload.wikimedia.org/wikipedia/commons/a/ac/No_image_available.svg,No,\\\\N,\\\\N,2,30,100,2018-03-23 17:59:58.632,2018-03-23 17:59:58.632,23,4,1,8,230,2,1,\\\\N,5,14,3,\\\\N,\\\\N,\\\\N,\\\\N,\\\\N,6,\\\\N,\\\\N,\\\\N,\\\\N,CAROLINA ZAPF_4979',\n",
       " '168,N/A,4,3.00,30.00,Tie back top,https://upload.wikimedia.org/wikipedia/commons/a/ac/No_image_available.svg,Yes,\\\\N,\\\\N,4,70,110,2018-03-23 18:07:30.722,2018-03-23 18:07:30.722,22,6,2,8,260,2,2,\\\\N,2,8,\\\\N,\\\\N,3,\\\\N,\\\\N,\\\\N,\\\\N,\\\\N,\\\\N,\\\\N,5,NULA_112-003',\n",
       " '169,N/A,3,00.00,60.00,proof of concept,https://upload.wikimedia.org/wikipedia/commons/a/ac/No_image_available.svg,No,\\\\N,\\\\N,4,40,110,2018-03-23 18:11:39.045,2018-03-23 18:11:39.045,21,1,1,8,17,2,2,\\\\N,1,2,\\\\N,\\\\N,14,\\\\N,\\\\N,\\\\N,\\\\N,\\\\N,\\\\N,\\\\N,4,FRENCHIE MINI COUTURE_20037',\n",
       " '171,N/A,3,00.00,60.00,proof of concept,https://upload.wikimedia.org/wikipedia/commons/a/ac/No_image_available.svg,No,\\\\N,\\\\N,3,40,110,2018-03-23 18:18:29.645,2018-03-23 18:18:29.645,21,1,1,8,17,2,2,\\\\N,1,2,\\\\N,\\\\N,14,\\\\N,\\\\N,\\\\N,\\\\N,\\\\N,\\\\N,\\\\N,4,\\\\N',\n",
       " '172,Yes,5,2.21,90.00,AnaisandI CloseOut,https://upload.wikimedia.org/wikipedia/commons/a/ac/No_image_available.svg,No,\\\\N,\\\\N,2,20,100,2018-03-23 18:47:08.205,2018-03-23 18:47:08.205,1,1,2,7,230,2,2,\\\\N,2,14,1,\\\\N,\\\\N,\\\\N,\\\\N,\\\\N,6,\\\\N,\\\\N,\\\\N,\\\\N,\\\\N',\n",
       " '173,N/A,3,00.00,60.00,proof of concept,https://upload.wikimedia.org/wikipedia/commons/a/ac/No_image_available.svg,No,\\\\N,\\\\N,3,40,110,2018-03-23 18:53:46.722,2018-03-23 18:53:46.722,21,1,1,8,157,2,2,\\\\N,1,2,\\\\N,\\\\N,14,\\\\N,\\\\N,\\\\N,\\\\N,\\\\N,\\\\N,\\\\N,4,\\\\N',\n",
       " '174,Yes,2,2.21,70.00,AnaisandI CloseOut,https://upload.wikimedia.org/wikipedia/commons/a/ac/No_image_available.svg,No,\\\\N,\\\\N,3,60,110,2018-03-23 19:08:31.014,2018-03-23 19:08:31.014,1,1,2,8,81,2,10,\\\\N,2,19,\\\\N,\\\\N,\\\\N,\\\\N,\\\\N,7,\\\\N,\\\\N,\\\\N,\\\\N,\\\\N,\\\\N',\n",
       " '175,N/A,3,00.00,60.00,proof of concept,https://upload.wikimedia.org/wikipedia/commons/a/ac/No_image_available.svg,No,\\\\N,\\\\N,3,40,110,2018-03-23 19:17:00.839,2018-03-23 19:17:00.839,21,1,2,8,194,2,2,\\\\N,1,21,\\\\N,\\\\N,\\\\N,\\\\N,\\\\N,3,\\\\N,\\\\N,\\\\N,\\\\N,\\\\N,\\\\N',\n",
       " '176,No,3,2.21,97.00,AnaisandI CloseOut,https://upload.wikimedia.org/wikipedia/commons/a/ac/No_image_available.svg,No,\\\\N,\\\\N,4,60,110,2018-03-23 19:18:20.947,2018-03-23 19:18:20.947,1,1,2,8,223,2,2,\\\\N,2,18,\\\\N,\\\\N,\\\\N,\\\\N,\\\\N,3,\\\\N,\\\\N,\\\\N,\\\\N,\\\\N,Anais & I_2046411',\n",
       " '177,N/A,3,00.00,60.00,proof of concept,https://upload.wikimedia.org/wikipedia/commons/a/ac/No_image_available.svg,No,\\\\N,\\\\N,3,40,110,2018-03-23 19:33:43.935,2018-03-23 19:33:43.935,21,1,1,8,93,2,2,\\\\N,1,21,\\\\N,\\\\N,\\\\N,\\\\N,\\\\N,3,\\\\N,\\\\N,\\\\N,\\\\N,\\\\N,\\\\N',\n",
       " '178,N/A,2,5.00,13.00,Phisticates,https://upload.wikimedia.org/wikipedia/commons/a/ac/No_image_available.svg,Yes,\\\\N,\\\\N,4,40,100,2018-03-23 19:34:14.529,2018-03-23 19:34:14.529,24,3,3,8,6,9,10,\\\\N,9,1,\\\\N,\\\\N,12,\\\\N,\\\\N,\\\\N,\\\\N,\\\\N,\\\\N,\\\\N,4,\\\\N',\n",
       " '179,N/A,3,00.00,60.00,proof of concept,https://upload.wikimedia.org/wikipedia/commons/a/ac/No_image_available.svg,No,\\\\N,\\\\N,3,40,110,2018-03-23 19:44:30.997,2018-03-23 19:44:30.997,21,1,1,8,93,2,2,\\\\N,1,21,\\\\N,\\\\N,\\\\N,\\\\N,\\\\N,3,\\\\N,\\\\N,\\\\N,\\\\N,\\\\N,\\\\N',\n",
       " '180,N/A,1,2.21,110.00,AnaisandI CloseOut,https://upload.wikimedia.org/wikipedia/commons/a/ac/No_image_available.svg,No,No,\\\\N,3,50,110,2018-03-23 19:45:29.266,2018-03-23 19:45:29.266,1,1,2,32,231,2,10,\\\\N,2,25,\\\\N,4,\\\\N,\\\\N,\\\\N,\\\\N,\\\\N,\\\\N,\\\\N,\\\\N,6,Anais & I_3040211',\n",
       " '181,N/A,4,2.21,35.00,anais&i closeout,https://upload.wikimedia.org/wikipedia/commons/a/ac/No_image_available.svg,No,\\\\N,\\\\N,3,70,110,2018-03-23 19:50:23.592,2018-03-23 19:50:23.592,1,6,2,8,229,2,10,\\\\N,2,3,\\\\N,\\\\N,12,\\\\N,\\\\N,\\\\N,\\\\N,\\\\N,\\\\N,\\\\N,6,\\\\N',\n",
       " '182,N/A,3,00.00,60.00,proof of concept,https://upload.wikimedia.org/wikipedia/commons/a/ac/No_image_available.svg,No,\\\\N,\\\\N,4,40,110,2018-03-23 19:54:55.640,2018-03-23 19:54:55.640,21,1,1,8,17,2,2,\\\\N,1,21,\\\\N,\\\\N,\\\\N,\\\\N,\\\\N,3,\\\\N,\\\\N,\\\\N,\\\\N,\\\\N,\\\\N',\n",
       " '183,N/A,4,2.19,35.00,Anais & i closeout,https://upload.wikimedia.org/wikipedia/commons/a/ac/No_image_available.svg,No,\\\\N,\\\\N,3,70,110,2018-03-23 20:31:28.567,2018-03-23 20:31:28.567,1,6,2,8,229,2,12,\\\\N,2,15,\\\\N,\\\\N,\\\\N,\\\\N,\\\\N,\\\\N,\\\\N,6,\\\\N,\\\\N,\\\\N,\\\\N',\n",
       " '184,N/A,4,2.19,35.00,anais & I closeout ,https://upload.wikimedia.org/wikipedia/commons/a/ac/No_image_available.svg,No,\\\\N,\\\\N,3,70,110,2018-03-23 20:40:13.228,2018-03-23 20:40:13.228,1,6,2,8,229,2,12,\\\\N,2,1,\\\\N,\\\\N,4,\\\\N,\\\\N,\\\\N,\\\\N,\\\\N,\\\\N,\\\\N,6,\\\\N',\n",
       " '185,N/A,4,00.00,50.00,Frenchie mini couture,https://upload.wikimedia.org/wikipedia/commons/a/ac/No_image_available.svg,No,\\\\N,\\\\N,3,60,90,2018-03-23 20:54:36.937,2018-03-23 20:54:36.937,21,1,1,8,157,2,2,\\\\N,2,21,\\\\N,\\\\N,\\\\N,\\\\N,\\\\N,3,\\\\N,\\\\N,\\\\N,\\\\N,\\\\N,\\\\N',\n",
       " '186,N/A,4,00.00,50.00,Frenchie mini couture closeout,https://upload.wikimedia.org/wikipedia/commons/a/ac/No_image_available.svg,No,\\\\N,\\\\N,4,50,80,2018-03-23 21:25:55.547,2018-03-23 21:25:55.547,21,1,1,8,157,2,2,\\\\N,2,21,\\\\N,\\\\N,\\\\N,\\\\N,\\\\N,3,\\\\N,\\\\N,\\\\N,\\\\N,\\\\N,\\\\N',\n",
       " '187,No,3,0.00,60.00,PROOF OF CONCEPT,https://upload.wikimedia.org/wikipedia/commons/a/ac/No_image_available.svg,No,\\\\N,\\\\N,3,30,80,2018-03-26 15:28:43.638,2018-03-26 15:28:43.638,21,1,1,8,264,2,2,\\\\N,1,21,\\\\N,\\\\N,\\\\N,\\\\N,\\\\N,3,\\\\N,\\\\N,\\\\N,\\\\N,\\\\N,FRENCHIE MINI COUTURE_2001B',\n",
       " '188,No,3,0.00,60.00,Proof of concept,https://upload.wikimedia.org/wikipedia/commons/a/ac/No_image_available.svg,No,\\\\N,\\\\N,3,20,70,2018-03-26 15:56:03.628,2018-03-26 15:56:03.628,21,1,1,8,264,2,2,\\\\N,1,2,\\\\N,\\\\N,14,\\\\N,\\\\N,\\\\N,\\\\N,\\\\N,\\\\N,\\\\N,4,FRENCHIE MINI COUTURE_2001',\n",
       " '189,Yes,1,2.21,99.00,A&I Closeout,https://upload.wikimedia.org/wikipedia/commons/a/ac/No_image_available.svg,No,\\\\N,\\\\N,3,50,110,2018-03-26 16:02:11.940,2018-03-26 16:02:11.940,1,1,2,32,231,2,10,\\\\N,2,17,\\\\N,\\\\N,\\\\N,\\\\N,\\\\N,\\\\N,\\\\N,\\\\N,2,1,\\\\N,Anais & I_4009211',\n",
       " '190,No,3,0.00,60.00,Proof of concept,https://upload.wikimedia.org/wikipedia/commons/a/ac/No_image_available.svg,No,\\\\N,\\\\N,3,30,70,2018-03-26 16:07:24.936,2018-03-26 16:07:24.936,21,1,1,8,264,2,2,\\\\N,1,21,\\\\N,\\\\N,\\\\N,\\\\N,\\\\N,3,\\\\N,\\\\N,\\\\N,\\\\N,\\\\N,\\\\N',\n",
       " '191,No,3,0.00,40.00,Proof of concept,https://upload.wikimedia.org/wikipedia/commons/a/ac/No_image_available.svg,No,\\\\N,\\\\N,3,20,70,2018-03-26 16:20:04.272,2018-03-26 16:20:04.272,21,1,3,8,264,2,2,\\\\N,1,21,\\\\N,\\\\N,\\\\N,\\\\N,\\\\N,3,\\\\N,\\\\N,\\\\N,\\\\N,\\\\N,\\\\N',\n",
       " '192,No,3,0.00,40.00,Proof of concept,https://upload.wikimedia.org/wikipedia/commons/a/ac/No_image_available.svg,No,\\\\N,\\\\N,3,40,80,2018-03-26 16:37:26.668,2018-03-26 16:37:26.668,21,1,1,8,93,2,2,\\\\N,1,21,\\\\N,\\\\N,\\\\N,\\\\N,\\\\N,3,\\\\N,\\\\N,\\\\N,\\\\N,\\\\N,\\\\N',\n",
       " '193,No,3,0.00,40.00,Proof of concept,https://upload.wikimedia.org/wikipedia/commons/a/ac/No_image_available.svg,No,\\\\N,\\\\N,3,20,70,2018-03-26 16:53:18.464,2018-03-26 16:53:18.464,21,1,3,8,93,2,2,\\\\N,1,21,\\\\N,\\\\N,\\\\N,\\\\N,\\\\N,3,\\\\N,\\\\N,\\\\N,\\\\N,\\\\N,\\\\N',\n",
       " '194,No,3,0.00,40.00,Proof of concept,https://upload.wikimedia.org/wikipedia/commons/a/ac/No_image_available.svg,No,\\\\N,\\\\N,3,30,70,2018-03-26 17:03:14.875,2018-03-26 17:03:14.875,21,1,3,8,93,2,2,\\\\N,1,21,\\\\N,\\\\N,\\\\N,\\\\N,\\\\N,3,\\\\N,\\\\N,\\\\N,\\\\N,\\\\N,\\\\N',\n",
       " '195,No,3,0.00,40.00,Proof of concept,https://upload.wikimedia.org/wikipedia/commons/a/ac/No_image_available.svg,No,\\\\N,\\\\N,3,20,70,2018-03-26 17:09:31.884,2018-03-26 17:09:31.884,21,1,3,8,93,2,2,\\\\N,1,21,\\\\N,\\\\N,\\\\N,\\\\N,\\\\N,3,\\\\N,\\\\N,\\\\N,\\\\N,\\\\N,FRENCHIE MINI COUTURE_2000B',\n",
       " '196,No,3,0.00,40.00,Proof of concept,https://upload.wikimedia.org/wikipedia/commons/a/ac/No_image_available.svg,No,\\\\N,\\\\N,3,40,80,2018-03-26 17:16:56.636,2018-03-26 17:16:56.636,21,1,3,8,93,2,2,\\\\N,1,21,\\\\N,\\\\N,\\\\N,\\\\N,\\\\N,3,\\\\N,\\\\N,\\\\N,\\\\N,\\\\N,\\\\N',\n",
       " '197,No,3,0.00,40.00,Proof of concept,https://upload.wikimedia.org/wikipedia/commons/a/ac/No_image_available.svg,No,\\\\N,\\\\N,3,40,80,2018-03-26 17:22:49.327,2018-03-26 17:22:49.327,21,1,3,8,93,2,2,\\\\N,1,21,\\\\N,\\\\N,\\\\N,\\\\N,\\\\N,3,\\\\N,\\\\N,\\\\N,\\\\N,\\\\N,\\\\N',\n",
       " '198,No,3,00.00,40.00,Proof of concept,https://upload.wikimedia.org/wikipedia/commons/a/ac/No_image_available.svg,No,\\\\N,\\\\N,3,30,80,2018-03-26 17:29:40.306,2018-03-26 17:29:40.306,21,1,3,8,93,2,2,\\\\N,1,21,\\\\N,\\\\N,\\\\N,\\\\N,\\\\N,3,\\\\N,\\\\N,\\\\N,\\\\N,\\\\N,\\\\N',\n",
       " '199,Yes,5,2.21,-1.00,A&I Closeout,https://upload.wikimedia.org/wikipedia/commons/a/ac/No_image_available.svg,No,\\\\N,\\\\N,2,50,90,2018-03-26 17:33:27.451,2018-03-26 17:33:27.451,1,1,1,31,209,2,2,\\\\N,2,14,3,\\\\N,\\\\N,\\\\N,\\\\N,\\\\N,6,\\\\N,\\\\N,\\\\N,\\\\N,Anais & I_2001110',\n",
       " '200,Yes,2,4.00,40.00,Bunnies Picnic,https://upload.wikimedia.org/wikipedia/commons/a/ac/No_image_available.svg,No,\\\\N,\\\\N,4,70,110,2018-03-26 18:52:07.840,2018-03-26 18:52:07.840,25,1,2,33,225,2,11,\\\\N,10,17,\\\\N,\\\\N,\\\\N,\\\\N,\\\\N,\\\\N,\\\\N,\\\\N,1,3,\\\\N,NINA & NELLIE_G4-005',\n",
       " '201,No,3,0.00,40.00,Proof of concept,https://upload.wikimedia.org/wikipedia/commons/a/ac/No_image_available.svg,No,\\\\N,\\\\N,4,30,70,2018-03-26 18:56:45.752,2018-03-26 18:56:45.752,21,1,1,8,93,2,2,\\\\N,1,2,\\\\N,\\\\N,14,\\\\N,\\\\N,\\\\N,\\\\N,\\\\N,\\\\N,\\\\N,4,\\\\N',\n",
       " '202,N/A,1,4.00,30.00,Bunnies Picnic,https://upload.wikimedia.org/wikipedia/commons/a/ac/No_image_available.svg,No,\\\\N,\\\\N,2,70,110,2018-03-26 19:08:25.204,2018-03-26 19:08:25.204,26,1,2,6,265,2,2,\\\\N,10,1,\\\\N,\\\\N,4,\\\\N,\\\\N,\\\\N,\\\\N,\\\\N,\\\\N,\\\\N,2,MAELI ROSE_4E05',\n",
       " '204,N/A,2,2.21,46.00,Anais and I Closeout,https://upload.wikimedia.org/wikipedia/commons/a/ac/No_image_available.svg,No,\\\\N,\\\\N,4,70,110,2018-03-26 19:21:27.755,2018-03-26 19:21:27.755,1,1,2,34,218,2,2,\\\\N,2,3,\\\\N,\\\\N,\\\\N,\\\\N,\\\\N,\\\\N,\\\\N,\\\\N,\\\\N,\\\\N,6,ANAIS & I_T10005',\n",
       " '205,N/A,3,2.21,62.00,Anais and I Closeout,https://upload.wikimedia.org/wikipedia/commons/a/ac/No_image_available.svg,No,\\\\N,\\\\N,3,50,110,2018-03-27 20:22:28.799,2018-03-27 20:22:28.799,1,1,1,9,259,2,2,\\\\N,2,5,\\\\N,\\\\N,14,\\\\N,\\\\N,\\\\N,\\\\N,\\\\N,\\\\N,\\\\N,2,Anais & I_1039111',\n",
       " '206,N/A,4,2.21,99.00,Anais & I Closeout,https://upload.wikimedia.org/wikipedia/commons/a/ac/No_image_available.svg,No,\\\\N,\\\\N,3,0,60,2018-03-27 21:34:48.034,2018-03-27 21:34:48.034,1,1,2,35,266,10,5,\\\\N,2,6,\\\\N,\\\\N,3,\\\\N,\\\\N,\\\\N,\\\\N,\\\\N,\\\\N,\\\\N,4,Anais & I_6002210 CHACV',\n",
       " '207,N/A,4,2.21,119.00,Anais & I Closeout,https://upload.wikimedia.org/wikipedia/commons/a/ac/No_image_available.svg,No,\\\\N,\\\\N,3,0,60,2018-03-27 22:02:39.118,2018-03-27 22:02:39.118,1,1,1,8,267,10,2,\\\\N,2,6,\\\\N,\\\\N,9,\\\\N,\\\\N,\\\\N,\\\\N,\\\\N,\\\\N,\\\\N,4,Anais & I_6012110',\n",
       " \"208,N/A,3,6.00,30.00,Private Label,https://upload.wikimedia.org/wikipedia/commons/a/ac/No_image_available.svg,Yes,\\\\N,\\\\N,4,30,110,2018-03-28 14:39:36.038,2018-03-28 14:39:36.038,27,6,3,8,268,2,2,\\\\N,3,9,\\\\N,\\\\N,3,\\\\N,\\\\N,\\\\N,\\\\N,\\\\N,\\\\N,\\\\N,2,WHAT'S IN YOUR SHIRT?_0004\",\n",
       " \"209,N/A,3,6.00,30.00,Private Label,https://upload.wikimedia.org/wikipedia/commons/a/ac/No_image_available.svg,Yes,\\\\N,\\\\N,4,30,110,2018-03-28 15:19:03.225,2018-03-30 01:52:20.443,27,6,3,8,223,2,2,\\\\N,3,9,\\\\N,\\\\N,3,\\\\N,\\\\N,\\\\N,\\\\N,\\\\N,\\\\N,\\\\N,2,WHAT'S IN YOUR SHIRT?_0001\",\n",
       " '210,No,3,4.00,82.00,Bunnies Picnic,https://upload.wikimedia.org/wikipedia/commons/a/ac/No_image_available.svg,No,No,\\\\N,3,70,110,2018-03-28 16:31:26.739,2018-03-28 16:31:26.739,28,6,2,8,159,10,10,\\\\N,10,24,\\\\N,13,\\\\N,\\\\N,\\\\N,\\\\N,\\\\N,\\\\N,\\\\N,\\\\N,1,FIVELOAVES TWOFISH_5L2F',\n",
       " '211,No,3,2.21,62.00,Anais and I Closeout,https://upload.wikimedia.org/wikipedia/commons/a/ac/No_image_available.svg,No,\\\\N,\\\\N,3,60,110,2018-03-28 17:30:28.817,2018-03-28 17:30:28.817,1,1,1,9,259,2,2,\\\\N,2,8,\\\\N,\\\\N,4,\\\\N,\\\\N,\\\\N,\\\\N,\\\\N,\\\\N,\\\\N,1,Anais & I_1036111',\n",
       " '212,No,5,00.00,48.00,luxaby,https://upload.wikimedia.org/wikipedia/commons/a/ac/No_image_available.svg,No,\\\\N,\\\\N,3,50,110,2018-03-28 17:48:31.706,2018-03-28 17:48:31.706,2,3,2,6,158,2,2,\\\\N,5,2,\\\\N,\\\\N,14,\\\\N,\\\\N,\\\\N,\\\\N,\\\\N,\\\\N,\\\\N,1,ELAND_8410652',\n",
       " '213,Yes,4,4.00,40.00,Bunnies Picnic,https://upload.wikimedia.org/wikipedia/commons/a/ac/No_image_available.svg,No,\\\\N,\\\\N,5,60,110,2018-03-28 17:57:07.770,2018-03-28 17:57:07.770,25,1,2,33,233,10,11,\\\\N,10,8,\\\\N,\\\\N,3,\\\\N,\\\\N,\\\\N,\\\\N,\\\\N,\\\\N,\\\\N,1,NINA & NELLIE_G4-001',\n",
       " '214,N/A,3,2.21,30.00,A&I close out,https://upload.wikimedia.org/wikipedia/commons/a/ac/No_image_available.svg,No,\\\\N,\\\\N,3,70,110,2018-03-28 18:15:15.696,2018-03-28 18:15:15.696,1,6,2,8,269,2,2,\\\\N,2,8,\\\\N,\\\\N,4,\\\\N,\\\\N,\\\\N,\\\\N,\\\\N,\\\\N,\\\\N,1,Anais & I_PJ10001',\n",
       " '215,No,5,2.21,120.00,Anais and I Closeout,https://upload.wikimedia.org/wikipedia/commons/a/ac/No_image_available.svg,No,No,\\\\N,4,0,70,2018-03-28 18:21:22.515,2018-03-28 18:54:36.884,1,1,2,36,222,\\\\N,\\\\N,1,2,23,\\\\N,14,\\\\N,\\\\N,\\\\N,\\\\N,\\\\N,\\\\N,\\\\N,\\\\N,1,ANAIS & I_3008210',\n",
       " '216,No,3,4.00,78.00,Bunnies Picnic,https://upload.wikimedia.org/wikipedia/commons/a/ac/No_image_available.svg,No,\\\\N,\\\\N,3,0,70,2018-03-28 18:32:40.886,2018-03-28 18:34:45.694,17,19,3,8,253,2,12,\\\\N,10,6,\\\\N,\\\\N,2,\\\\N,\\\\N,\\\\N,\\\\N,\\\\N,\\\\N,\\\\N,4,\\\\N',\n",
       " '217,No,5,00.00,79.00,Luxaby,https://upload.wikimedia.org/wikipedia/commons/a/ac/No_image_available.svg,No,\\\\N,\\\\N,4,60,110,2018-03-28 18:52:58.720,2018-03-28 18:52:58.720,13,9,2,8,261,3,3,\\\\N,5,1,\\\\N,\\\\N,3,\\\\N,\\\\N,\\\\N,\\\\N,\\\\N,\\\\N,\\\\N,1,RACHEL RILEY_36658',\n",
       " '218,N/A,3,4.00,26.5,Bunnies Picnic,https://upload.wikimedia.org/wikipedia/commons/a/ac/No_image_available.svg,No,No,\\\\N,4,60,110,2018-03-28 18:54:58.030,2018-03-28 18:54:58.030,26,1,2,37,270,2,8,\\\\N,10,23,\\\\N,9,\\\\N,\\\\N,\\\\N,\\\\N,\\\\N,\\\\N,\\\\N,\\\\N,5,MAELI ROSE_P6E07',\n",
       " '219,No,4,4.00,64.00,Bunnies Picnic,https://upload.wikimedia.org/wikipedia/commons/a/ac/No_image_available.svg,No,\\\\N,\\\\N,5,70,110,2018-03-28 19:09:13.844,2018-03-28 19:09:13.844,29,1,2,38,233,2,2,\\\\N,10,17,\\\\N,\\\\N,\\\\N,\\\\N,\\\\N,\\\\N,\\\\N,\\\\N,1,6,\\\\N,\\\\N',\n",
       " '220,N/A,3,2.21,97.00,A&I close out,https://upload.wikimedia.org/wikipedia/commons/a/ac/No_image_available.svg,No,\\\\N,\\\\N,3,50,100,2018-03-28 19:20:47.769,2018-03-28 19:20:47.769,1,6,3,8,157,10,12,\\\\N,2,6,\\\\N,\\\\N,2,\\\\N,\\\\N,\\\\N,\\\\N,\\\\N,\\\\N,\\\\N,4,Anais & I_6044511',\n",
       " '221,Yes,4,00.00,179.00,Luxaby,https://upload.wikimedia.org/wikipedia/commons/a/ac/No_image_available.svg,No,No,\\\\N,4,70,110,2018-03-28 19:30:57.852,2018-03-28 19:30:57.852,13,1,2,8,136,3,3,\\\\N,5,23,\\\\N,10,\\\\N,\\\\N,\\\\N,\\\\N,\\\\N,\\\\N,\\\\N,\\\\N,1,RACHEL RILEY_6680',\n",
       " \"222,N/A,3,6.00,38.00,Private label,https://upload.wikimedia.org/wikipedia/commons/a/ac/No_image_available.svg,No,\\\\N,\\\\N,4,60,110,2018-03-28 19:43:12.634,2018-03-30 01:55:10.447,27,6,3,39,275,2,2,\\\\N,3,9,\\\\N,\\\\N,1,\\\\N,\\\\N,\\\\N,\\\\N,\\\\N,\\\\N,\\\\N,2,WHAT'S IN YOUR SHIRT?_0003\",\n",
       " '223,No,5,2.21,99.00,Anais & I Closeout,https://upload.wikimedia.org/wikipedia/commons/a/ac/No_image_available.svg,No,No,\\\\N,4,60,110,2018-03-28 19:43:28.534,2018-03-28 19:43:28.534,1,1,2,14,237,2,2,\\\\N,2,24,\\\\N,1,\\\\N,\\\\N,\\\\N,\\\\N,\\\\N,\\\\N,\\\\N,\\\\N,2,Anais & I_3029211',\n",
       " '224,N/A,3,00.00,25.00,luxury closeout,https://upload.wikimedia.org/wikipedia/commons/a/ac/No_image_available.svg,No,\\\\N,\\\\N,3,60,110,2018-03-28 20:33:49.310,2018-03-28 20:33:49.310,18,4,3,8,136,2,2,\\\\N,5,9,\\\\N,\\\\N,1,\\\\N,\\\\N,\\\\N,\\\\N,\\\\N,\\\\N,\\\\N,2,\\\\N',\n",
       " '225,N/A,3,2.21,72.00,A&I close out,https://upload.wikimedia.org/wikipedia/commons/a/ac/No_image_available.svg,No,\\\\N,\\\\N,3,50,110,2018-03-28 20:51:23.462,2018-03-28 20:51:23.462,1,1,1,8,227,2,11,\\\\N,2,1,\\\\N,\\\\N,14,\\\\N,\\\\N,\\\\N,\\\\N,\\\\N,\\\\N,\\\\N,4,\\\\N',\n",
       " '226,N/A,4,2.21,80.00,A&I close out,https://upload.wikimedia.org/wikipedia/commons/a/ac/No_image_available.svg,No,\\\\N,\\\\N,2,60,110,2018-03-28 21:07:26.532,2018-03-28 21:07:26.532,1,1,3,13,14,2,2,\\\\N,2,12,\\\\N,\\\\N,14,\\\\N,\\\\N,\\\\N,\\\\N,\\\\N,\\\\N,\\\\N,1,Anais & I_v10001',\n",
       " '228,No,2,4.00,58.00,Bunnies Picnic,https://upload.wikimedia.org/wikipedia/commons/a/ac/No_image_available.svg,No,No,\\\\N,2,70,110,2018-03-29 16:30:59.822,2018-03-29 16:30:59.822,31,6,2,8,271,2,12,\\\\N,10,25,\\\\N,12,\\\\N,\\\\N,\\\\N,\\\\N,\\\\N,\\\\N,\\\\N,\\\\N,1,\\\\N',\n",
       " '229,No,3,00.00,125.00,Luxaby,https://upload.wikimedia.org/wikipedia/commons/a/ac/No_image_available.svg,No,Yes,\\\\N,2,60,110,2018-03-29 16:50:34.197,2018-03-29 16:50:34.197,18,1,2,8,44,2,3,\\\\N,5,24,\\\\N,21,\\\\N,\\\\N,\\\\N,\\\\N,\\\\N,\\\\N,\\\\N,\\\\N,1,CZ_S1483F1',\n",
       " '230,No,2,2.21,84.00,Anais & I Closeout,https://upload.wikimedia.org/wikipedia/commons/a/ac/No_image_available.svg,No,No,\\\\N,3,30,90,2018-03-29 17:04:49.682,2018-03-29 17:04:49.682,1,1,2,40,272,\\\\N,\\\\N,1,2,24,\\\\N,21,\\\\N,\\\\N,\\\\N,\\\\N,\\\\N,\\\\N,\\\\N,\\\\N,1,\\\\N',\n",
       " '231,No,2,4.00,42.00,Bunnies Picnic,https://upload.wikimedia.org/wikipedia/commons/a/ac/No_image_available.svg,No,No,\\\\N,4,70,110,2018-03-29 17:18:40.860,2018-03-29 17:18:40.860,32,3,2,41,233,2,10,\\\\N,10,24,\\\\N,6,\\\\N,\\\\N,\\\\N,\\\\N,\\\\N,\\\\N,\\\\N,\\\\N,7,ONEILL_23816008',\n",
       " '232,N/A,2,00.00,45.00,Luxaby,https://upload.wikimedia.org/wikipedia/commons/a/ac/No_image_available.svg,No,\\\\N,\\\\N,4,70,110,2018-03-29 18:02:50.603,2018-03-29 18:02:50.603,18,1,2,8,255,2,3,\\\\N,5,8,\\\\N,\\\\N,13,\\\\N,\\\\N,\\\\N,\\\\N,\\\\N,\\\\N,\\\\N,1,\\\\N',\n",
       " '233,Yes,2,2.21,64.00,Anais & I Closeout,https://upload.wikimedia.org/wikipedia/commons/a/ac/No_image_available.svg,No,\\\\N,\\\\N,2,70,110,2018-03-29 18:47:19.749,2018-03-29 18:47:19.749,1,1,2,8,225,2,2,\\\\N,2,17,\\\\N,\\\\N,\\\\N,\\\\N,\\\\N,\\\\N,\\\\N,\\\\N,1,3,\\\\N,Anais & I_sk10000',\n",
       " '234,No,2,2.21,48.00,Anais & I Closeout,https://upload.wikimedia.org/wikipedia/commons/a/ac/No_image_available.svg,No,\\\\N,\\\\N,2,60,100,2018-03-29 18:56:13.287,2018-03-29 18:56:13.287,1,1,2,8,273,2,2,\\\\N,2,1,\\\\N,\\\\N,4,\\\\N,\\\\N,\\\\N,\\\\N,\\\\N,\\\\N,\\\\N,4,\\\\N',\n",
       " '235,No,3,00.00,78.00,Luxaby,https://upload.wikimedia.org/wikipedia/commons/a/ac/No_image_available.svg,No,\\\\N,\\\\N,3,30,90,2018-03-29 19:15:37.766,2018-03-29 19:15:37.766,13,1,1,8,157,3,3,\\\\N,5,12,\\\\N,\\\\N,14,\\\\N,\\\\N,\\\\N,\\\\N,\\\\N,\\\\N,\\\\N,4,\\\\N',\n",
       " '236,Yes,4,5.00,94.00,Phisticate,https://upload.wikimedia.org/wikipedia/commons/a/ac/No_image_available.svg,No,\\\\N,\\\\N,3,40,80,2018-03-29 19:36:20.380,2018-03-29 19:36:20.380,8,20,3,42,274,2,10,\\\\N,9,4,\\\\N,\\\\N,9,\\\\N,\\\\N,\\\\N,\\\\N,\\\\N,\\\\N,\\\\N,4,DUOOUD_008017',\n",
       " '237,Yes,4,00.00,57.00,Proof of Concept,https://upload.wikimedia.org/wikipedia/commons/a/ac/No_image_available.svg,No,\\\\N,\\\\N,2,30,80,2018-03-30 16:59:20.197,2018-03-30 16:59:20.197,15,1,2,25,223,10,10,\\\\N,1,17,\\\\N,\\\\N,\\\\N,\\\\N,\\\\N,\\\\N,\\\\N,\\\\N,2,5,\\\\N,MISS MEME_M4047',\n",
       " '238,N/A,4,00.00,79.00,Luxaby,https://upload.wikimedia.org/wikipedia/commons/a/ac/No_image_available.svg,No,\\\\N,\\\\N,2,30,60,2018-03-30 17:03:19.595,2018-03-30 17:03:45.267,13,1,1,8,157,3,5,\\\\N,5,2,\\\\N,\\\\N,14,\\\\N,\\\\N,\\\\N,\\\\N,\\\\N,\\\\N,\\\\N,4,RACHEL RILEY_1800001168',\n",
       " '239,N/A,1,2.21,55.00,AnaisandI CloseOut,https://upload.wikimedia.org/wikipedia/commons/a/ac/No_image_available.svg,No,\\\\N,\\\\N,3,50,110,2018-03-30 17:31:15.369,2018-03-30 17:31:15.369,1,1,2,8,257,2,10,\\\\N,2,1,\\\\N,\\\\N,15,\\\\N,\\\\N,\\\\N,\\\\N,\\\\N,\\\\N,\\\\N,3,\\\\N',\n",
       " '240,N/A,4,6.00,30.00,Private Label,https://upload.wikimedia.org/wikipedia/commons/a/ac/No_image_available.svg,Yes,\\\\N,\\\\N,5,40,110,2018-03-30 17:53:38.310,2018-03-30 17:53:38.310,27,6,3,39,276,2,2,\\\\N,3,9,\\\\N,\\\\N,3,\\\\N,\\\\N,\\\\N,\\\\N,\\\\N,\\\\N,\\\\N,2,\\\\N',\n",
       " \"241,N/A,3,6.00,32.00,private label,https://upload.wikimedia.org/wikipedia/commons/a/ac/No_image_available.svg,No,\\\\N,\\\\N,4,60,110,2018-03-30 18:12:44.239,2018-03-30 18:12:44.239,27,6,3,39,222,2,2,\\\\N,3,9,\\\\N,\\\\N,1,\\\\N,\\\\N,\\\\N,\\\\N,\\\\N,\\\\N,\\\\N,2,WHAT'S IN YOUR SHIRT?_0001\",\n",
       " \"242,N/A,3,4.00,70.00,Bunny's Picnic,https://upload.wikimedia.org/wikipedia/commons/a/ac/No_image_available.svg,No,No,\\\\N,5,50,110,2018-03-30 18:13:23.474,2018-03-30 18:19:18.579,30,1,2,43,260,10,12,\\\\N,10,25,\\\\N,5,\\\\N,\\\\N,\\\\N,\\\\N,\\\\N,\\\\N,\\\\N,\\\\N,6,\\\\N\",\n",
       " '243,N/A,2,2.21,68.00,A&I close out,https://upload.wikimedia.org/wikipedia/commons/a/ac/No_image_available.svg,No,\\\\N,\\\\N,3,60,110,2018-03-30 18:25:23.671,2018-03-30 18:25:23.671,1,1,1,8,256,2,11,\\\\N,2,1,\\\\N,\\\\N,14,\\\\N,\\\\N,\\\\N,\\\\N,\\\\N,\\\\N,\\\\N,2,\\\\N',\n",
       " '244,N/A,3,19000.00,82.00,Luxaby CloseOut,https://upload.wikimedia.org/wikipedia/commons/a/ac/No_image_available.svg,No,\\\\N,\\\\N,1,20,90,2018-03-30 18:32:52.052,2018-03-30 18:32:52.052,3,9,1,44,250,1,12,\\\\N,5,12,\\\\N,\\\\N,2,\\\\N,\\\\N,\\\\N,\\\\N,\\\\N,\\\\N,\\\\N,1,DARCY BROWN_c18b',\n",
       " '245,N/A,3,00.00,49.00,luxaby closeout,https://upload.wikimedia.org/wikipedia/commons/a/ac/No_image_available.svg,No,\\\\N,\\\\N,3,50,110,2018-03-30 18:36:57.353,2018-03-30 18:36:57.353,2,1,1,8,157,2,2,\\\\N,5,1,\\\\N,\\\\N,14,\\\\N,\\\\N,\\\\N,\\\\N,\\\\N,\\\\N,\\\\N,4,ELAND_3420514',\n",
       " '246,N/A,5,19000.00,86.00,Luxaby CloseOut,https://upload.wikimedia.org/wikipedia/commons/a/ac/No_image_available.svg,No,\\\\N,\\\\N,3,10,110,2018-03-30 18:43:46.426,2018-03-30 18:46:12.793,11,4,3,45,277,3,12,\\\\N,5,6,\\\\N,\\\\N,3,\\\\N,\\\\N,\\\\N,\\\\N,\\\\N,\\\\N,\\\\N,4,FLORENCE EISMAN_11875',\n",
       " '247,No,3,00.00,35.00,Luxaby CloseOut,https://upload.wikimedia.org/wikipedia/commons/a/ac/No_image_available.svg,No,No,\\\\N,4,60,110,2018-03-30 19:02:35.976,2018-03-30 19:02:35.976,4,12,2,8,223,3,11,\\\\N,5,23,\\\\N,14,\\\\N,\\\\N,\\\\N,\\\\N,\\\\N,\\\\N,\\\\N,\\\\N,1,\\\\N',\n",
       " \"248,N/A,3,5.00,27.95,ECOMMERCE PURCHASE,https://upload.wikimedia.org/wikipedia/commons/a/ac/No_image_available.svg,Yes,\\\\N,\\\\N,3,0,60,2018-03-30 19:06:19.449,2018-03-30 19:06:19.449,35,21,3,8,223,3,2,\\\\N,2,6,\\\\N,\\\\N,3,\\\\N,\\\\N,\\\\N,\\\\N,\\\\N,\\\\N,\\\\N,4,BURT'S BEES KIDS_TD24655-CBR-7Y\",\n",
       " '249,N/A,3,4.00,30.00,Bunnys Picnic,https://upload.wikimedia.org/wikipedia/commons/a/ac/No_image_available.svg,No,\\\\N,\\\\N,2,50,100,2018-03-30 19:31:56.543,2018-03-30 19:31:56.543,26,1,2,8,278,2,12,\\\\N,10,12,\\\\N,\\\\N,14,\\\\N,\\\\N,\\\\N,\\\\N,\\\\N,\\\\N,\\\\N,1,MAELI ROSE_4A04',\n",
       " \"250,N/A,3,5.00,13.00,ECOMMERCE PURCHASE,https://upload.wikimedia.org/wikipedia/commons/a/ac/No_image_available.svg,Yes,\\\\N,\\\\N,3,50,110,2018-03-30 19:35:06.737,2018-03-30 19:35:06.737,35,3,1,8,279,3,2,\\\\N,2,7,\\\\N,\\\\N,1,\\\\N,\\\\N,\\\\N,\\\\N,\\\\N,\\\\N,\\\\N,4,BURT'S BEES KIDS_TD24649-CLH-7Y\",\n",
       " '251,N/A,3,00.00,80.00,luxaby closeout,https://upload.wikimedia.org/wikipedia/commons/a/ac/No_image_available.svg,No,\\\\N,\\\\N,3,50,110,2018-03-30 20:01:09.431,2018-03-30 20:01:09.431,6,1,2,8,230,2,2,\\\\N,2,2,\\\\N,\\\\N,14,\\\\N,\\\\N,\\\\N,\\\\N,\\\\N,\\\\N,\\\\N,4,\\\\N',\n",
       " '252,Yes,1,4.00,28.00,Bunnies Picnic,https://upload.wikimedia.org/wikipedia/commons/a/ac/No_image_available.svg,No,\\\\N,\\\\N,4,60,110,2018-04-03 16:27:48.065,2018-04-03 16:27:48.065,26,1,2,46,17,2,8,\\\\N,10,16,\\\\N,\\\\N,\\\\N,\\\\N,\\\\N,\\\\N,\\\\N,\\\\N,\\\\N,\\\\N,\\\\N,MAELI ROSE_4G09',\n",
       " '253,Yes,3,00.00,68.00,Luxaby,https://upload.wikimedia.org/wikipedia/commons/a/ac/No_image_available.svg,No,\\\\N,\\\\N,1,70,110,2018-04-03 16:37:10.248,2018-04-03 16:37:10.248,36,1,2,8,261,2,2,\\\\N,5,15,\\\\N,\\\\N,\\\\N,\\\\N,\\\\N,\\\\N,\\\\N,\\\\N,\\\\N,\\\\N,\\\\N,MISS B_6667',\n",
       " '254,Yes,4,2.21,86.00,Anais and I Closeout,https://upload.wikimedia.org/wikipedia/commons/a/ac/No_image_available.svg,No,\\\\N,\\\\N,1,70,110,2018-04-03 16:48:12.952,2018-04-03 16:48:12.952,1,1,2,8,159,2,2,\\\\N,2,19,\\\\N,\\\\N,\\\\N,\\\\N,\\\\N,7,\\\\N,\\\\N,\\\\N,\\\\N,\\\\N,Anais & I_ps10000',\n",
       " '255,Yes,3,00.00,28.00,Luxaby,https://upload.wikimedia.org/wikipedia/commons/a/ac/No_image_available.svg,No,\\\\N,\\\\N,4,40,90,2018-04-03 17:20:19.448,2018-04-03 17:20:19.448,13,1,2,47,223,2,2,\\\\N,5,16,\\\\N,\\\\N,\\\\N,\\\\N,\\\\N,\\\\N,\\\\N,\\\\N,\\\\N,\\\\N,\\\\N,\\\\N',\n",
       " '256,Yes,3,10.00,48.00,Sample Sale Goodwill,https://upload.wikimedia.org/wikipedia/commons/a/ac/No_image_available.svg,No,\\\\N,\\\\N,4,40,80,2018-04-03 17:46:56.707,2018-04-03 17:46:56.707,37,19,2,25,280,2,2,\\\\N,2,15,\\\\N,\\\\N,\\\\N,\\\\N,\\\\N,\\\\N,\\\\N,7,\\\\N,\\\\N,\\\\N,A GATAS_n776',\n",
       " '257,No,4,00.00,49.50,luxaby,https://upload.wikimedia.org/wikipedia/commons/a/ac/No_image_available.svg,No,\\\\N,\\\\N,3,20,60,2018-04-03 18:21:28.504,2018-04-03 18:21:28.504,38,1,1,8,281,2,2,\\\\N,5,14,3,\\\\N,\\\\N,\\\\N,\\\\N,\\\\N,8,\\\\N,\\\\N,\\\\N,\\\\N,VINEYARD VINES_3P49301',\n",
       " '258,No,4,2.21,65.00,A&I CLOSEOUT,https://upload.wikimedia.org/wikipedia/commons/a/ac/No_image_available.svg,No,\\\\N,\\\\N,2,50,90,2018-04-03 19:00:00.575,2018-04-03 19:00:00.575,1,1,3,8,230,2,2,\\\\N,2,15,\\\\N,\\\\N,\\\\N,\\\\N,\\\\N,\\\\N,\\\\N,3,\\\\N,\\\\N,\\\\N,Anais & I_BP8001',\n",
       " \"259,N/A,2,6.00,38.00,Private Label,https://upload.wikimedia.org/wikipedia/commons/a/ac/No_image_available.svg,Yes,\\\\N,\\\\N,4,60,110,2018-04-04 15:16:35.678,2018-04-04 15:16:35.678,27,6,3,39,282,2,2,\\\\N,3,9,\\\\N,\\\\N,3,\\\\N,\\\\N,\\\\N,\\\\N,\\\\N,\\\\N,\\\\N,2,WHAT'S IN YOUR SHIRT?_0002\",\n",
       " '260,Yes,3,2.21,-1.00,A&I Closeout,https://upload.wikimedia.org/wikipedia/commons/a/ac/No_image_available.svg,No,\\\\N,\\\\N,3,50,70,2018-04-04 15:33:25.502,2018-04-04 15:33:25.502,1,1,1,6,173,2,2,\\\\N,2,14,3,\\\\N,\\\\N,\\\\N,\\\\N,\\\\N,3,\\\\N,\\\\N,\\\\N,\\\\N,Anais & I_BP10003',\n",
       " '261,N/A,3,2.21,99.00,A&I Closeout,https://upload.wikimedia.org/wikipedia/commons/a/ac/No_image_available.svg,No,\\\\N,\\\\N,2,50,70,2018-04-04 15:54:00.276,2018-04-04 15:54:00.276,1,1,1,8,112,2,2,\\\\N,2,1,\\\\N,\\\\N,1,\\\\N,\\\\N,\\\\N,\\\\N,\\\\N,\\\\N,\\\\N,4,Anais & I_BT10000',\n",
       " '262,No,5,2.21,-1.00,A&I Closeout,https://upload.wikimedia.org/wikipedia/commons/a/ac/No_image_available.svg,No,\\\\N,\\\\N,1,60,100,2018-04-04 16:15:48.386,2018-04-04 16:15:48.386,1,1,1,12,230,2,2,\\\\N,2,15,\\\\N,\\\\N,\\\\N,\\\\N,\\\\N,\\\\N,\\\\N,2,\\\\N,\\\\N,\\\\N,Anais & I_BP8000']"
      ]
     },
     "execution_count": 17,
     "metadata": {},
     "output_type": "execute_result"
    }
   ],
   "source": [
    "result = []\n",
    "for column_index in range(item_number):\n",
    "    if final_pred[11][column_index] == 1:\n",
    "        result.append(item_RDD.filter(lambda l: int(l.split(',')[0])== column_index + 1).collect()[0])\n",
    "result"
   ]
  },
  {
   "cell_type": "code",
   "execution_count": null,
   "metadata": {},
   "outputs": [],
   "source": []
  }
 ],
 "metadata": {
  "kernelspec": {
   "display_name": "Python 3",
   "language": "python",
   "name": "python3"
  },
  "language_info": {
   "codemirror_mode": {
    "name": "ipython",
    "version": 3
   },
   "file_extension": ".py",
   "mimetype": "text/x-python",
   "name": "python",
   "nbconvert_exporter": "python",
   "pygments_lexer": "ipython3",
   "version": "3.5.2"
  }
 },
 "nbformat": 4,
 "nbformat_minor": 2
}
