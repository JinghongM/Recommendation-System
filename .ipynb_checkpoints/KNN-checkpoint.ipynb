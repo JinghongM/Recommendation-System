{
 "cells": [
  {
   "cell_type": "code",
   "execution_count": 1,
   "metadata": {},
   "outputs": [
    {
     "name": "stderr",
     "output_type": "stream",
     "text": [
      "/home/jinghong/.local/lib/python3.5/site-packages/fuzzywuzzy/fuzz.py:35: UserWarning: Using slow pure-python SequenceMatcher. Install python-Levenshtein to remove this warning\n",
      "  warnings.warn('Using slow pure-python SequenceMatcher. Install python-Levenshtein to remove this warning')\n"
     ]
    }
   ],
   "source": [
    "import csv\n",
    "import math\n",
    "import json\n",
    "from fuzzywuzzy import fuzz\n",
    "from collections import OrderedDict\n",
    "from pandas.io.json import json_normalize"
   ]
  },
  {
   "cell_type": "code",
   "execution_count": 2,
   "metadata": {},
   "outputs": [],
   "source": [
    "def loadItemDataset(filename):\n",
    "    brandIdItemsId={}\n",
    "    with open(filename,'r') as data:\n",
    "        parseData=json.load(data)\n",
    "        for item in parseData:\n",
    "            brandId=item[\"brand_id\"]\n",
    "            itemId=item[\"item_id\"]\n",
    "            if brandId not in brandIdItemsId:\n",
    "                brandIdItemsId[brandId] = []\n",
    "            brandIdItemsId[brandId].append(itemId)\n",
    "    return brandIdItemsId\n",
    "def loadRateDataset(filename):\n",
    "    with open(filename,'r') as data:\n",
    "        parseData=json.load(data)\n",
    "        return parseData[\"brand_id\"]\n",
    "\n",
    "def loadBrandDataset(filename):\n",
    "    brandGlossary={}\n",
    "    with open(filename,'r') as data:\n",
    "        parseData=json.load(data)\n",
    "        for brand in parseData[\"brands\"]:\n",
    "            brandId=brand[\"brand_id\"]\n",
    "            curBrandList=[]\n",
    "            for feature in list(brand[\"features\"].keys()):\n",
    "                curBrandList.append(brand[\"features\"][feature])\n",
    "            brandGlossary[brandId]=curBrandList\n",
    "        return brandGlossary"
   ]
  },
  {
   "cell_type": "code",
   "execution_count": 8,
   "metadata": {},
   "outputs": [],
   "source": [
    "def euclideanDistance(instance1,instance2):\n",
    "    distance = 0\n",
    "    featuresNum=len(instance1)\n",
    "    for x in range(featuresNum):\n",
    "        distance+=pow((float(instance1[x])-float(instance2[x])),2)\n",
    "    return math.sqrt(distance)\n",
    "def getNeighbors(dataset,testInstance,k):\n",
    "    distances=[]\n",
    "    for brandId,brandFeatures in dataset.items():\n",
    "        dist=euclideanDistance(testInstance,brandFeatures)\n",
    "        distances.append((brandId,dist))\n",
    "    distances.sort(key=lambda tup:tup[1])\n",
    "    neighbors=[]\n",
    "    for x in range(min(k,len(distances))):\n",
    "        neighbors.append(distances[x][0])\n",
    "    return neighbors"
   ]
  },
  {
   "cell_type": "code",
   "execution_count": 21,
   "metadata": {},
   "outputs": [
    {
     "data": {
      "text/plain": [
       "[10, 20, 30, 40, 50]"
      ]
     },
     "execution_count": 21,
     "metadata": {},
     "output_type": "execute_result"
    }
   ],
   "source": [
    "def KnnBrandRecommender(items,highRatings,normalizedBrands,k,filterItemIDs=None):\n",
    "    try:\n",
    "        brandItems=loadItemDataset(items) #itemFile\n",
    "        userRated=loadRateDataset(highRatings) #rateFile\n",
    "        brandGlossary=loadBrandDataset(normalizedBrands) #brandGlossary\n",
    "    except KeyError:\n",
    "        raise ValueError(\"Incorrect file list!\")\n",
    "    brandCount={}\n",
    "    for brandId in userRated:\n",
    "        testInstance = brandGlossary[brandId]\n",
    "        neighbors = getNeighbors(brandGlossary,testInstance,k)\n",
    "        for neighbor in neighbors:\n",
    "            if neighbor in brandCount:\n",
    "                brandCount[neighbor] += 1\n",
    "            else:\n",
    "                brandCount[neighbor] = 1\n",
    "    sortedBrandIds=[k for k in sorted(brandCount,key=brandCount.get,reverse=True)]\n",
    "    desiredItems=[]\n",
    "    for brandId in sortedBrandIds:\n",
    "        if brandId in brandItems:\n",
    "            desiredItems+=brandItems[brandId]\n",
    "    if filterItemIDs == None:\n",
    "        return desiredItems\n",
    "    else:\n",
    "        return [value for value in desiredItems if value in filterItemIDs]\n",
    "\n",
    "KnnBrandRecommender(\"./jsons/items.json\",\"./jsons/high_ratings.json\",\"./jsons/normalized_brand.json\",10)"
   ]
  },
  {
   "cell_type": "markdown",
   "metadata": {},
   "source": [
    "# For futher use!"
   ]
  },
  {
   "cell_type": "code",
   "execution_count": null,
   "metadata": {},
   "outputs": [],
   "source": [
    "def KnnRecommender(itemFile,rateFile,userId,k,filterItemIDs):\n",
    "    itemDataset=loadItemDataset(itemFile,16)\n",
    "    filteredItemDataset=[]\n",
    "    for filterItemID in filterItemIDs:\n",
    "        for item in itemDataset:\n",
    "            if int(item[0]) == filterItemID:\n",
    "                filteredItemDataset.append(item)\n",
    "                continue\n",
    "    userRated=loadRateDataset(rateFile,userId)\n",
    "    resultDict={}\n",
    "    for itemId in userRated:\n",
    "        print(\"rate itemId:\" + str(itemId))\n",
    "        for filteredItem in filteredItemDataset:\n",
    "            if int(filteredItem[0]) == itemId:\n",
    "                testInstance = filteredItem\n",
    "                print(\"test Instance=\")\n",
    "                print(testInstance)\n",
    "                neighbors = getNeighbors(filteredItemDataset,testInstance,k)\n",
    "                for neighbor in neighbors:\n",
    "                    if frozenset(neighbor) in resultDict:\n",
    "                        resultDict[frozenset(neighbor)] += 1\n",
    "                    else:\n",
    "                        resultDict[frozenset(neighbor)] = 1\n",
    "                continue\n",
    "    sortedResult=[(list(k),resultDict[k]) for k in sorted(resultDict,key=resultDict.get,reverse=True)]\n",
    "    return sortedResult\n",
    "def knnRecommender(itemFile,rateFile,userId,k,filterItemIDs):\n",
    "    result = KnnRecommender(itemFile,rateFile,userId,k,filterItemIDs)\n",
    "    while len(result) < k:\n",
    "        print(k)\n",
    "        k+=1\n",
    "        result = KnnRecommender(itemFile,rateFile,userId,k+1,filterItemIDs)\n",
    "    return result"
   ]
  }
 ],
 "metadata": {
  "kernelspec": {
   "display_name": "Python 3",
   "language": "python",
   "name": "python3"
  },
  "language_info": {
   "codemirror_mode": {
    "name": "ipython",
    "version": 3
   },
   "file_extension": ".py",
   "mimetype": "text/x-python",
   "name": "python",
   "nbconvert_exporter": "python",
   "pygments_lexer": "ipython3",
   "version": "3.5.2"
  }
 },
 "nbformat": 4,
 "nbformat_minor": 2
}
